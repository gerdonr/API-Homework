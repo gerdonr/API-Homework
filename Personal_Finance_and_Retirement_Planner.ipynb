{
 "cells": [
  {
   "cell_type": "code",
   "execution_count": 1,
   "metadata": {},
   "outputs": [],
   "source": [
    "# Initial imports\n",
    "import os\n",
    "import requests\n",
    "import pandas as pd\n",
    "from dotenv import load_dotenv\n",
    "import alpaca_trade_api as tradeapi\n",
    "from MCForecastTools import MCSimulation\n",
    "import json\n",
    "\n",
    "%matplotlib inline"
   ]
  },
  {
   "cell_type": "code",
   "execution_count": 2,
   "metadata": {},
   "outputs": [
    {
     "data": {
      "text/plain": [
       "True"
      ]
     },
     "execution_count": 2,
     "metadata": {},
     "output_type": "execute_result"
    }
   ],
   "source": [
    "# Load .env enviroment variables\n",
    "from dotenv import load_dotenv\n",
    "load_dotenv()"
   ]
  },
  {
   "cell_type": "markdown",
   "metadata": {},
   "source": [
    "## Part 1 - Personal Finance Planner"
   ]
  },
  {
   "cell_type": "code",
   "execution_count": 3,
   "metadata": {},
   "outputs": [],
   "source": [
    "# Set monthly household income\n",
    "monthly_income = 12000"
   ]
  },
  {
   "cell_type": "markdown",
   "metadata": {},
   "source": [
    "### Collect Crypto Prices Using the requests Library\n"
   ]
  },
  {
   "cell_type": "code",
   "execution_count": 4,
   "metadata": {},
   "outputs": [],
   "source": [
    "# Current amount of crypto assets\n",
    "my_btc = 1.2\n",
    "my_eth = 5.3"
   ]
  },
  {
   "cell_type": "code",
   "execution_count": 5,
   "metadata": {},
   "outputs": [],
   "source": [
    "# Crypto API URLs\n",
    "btc_url = \"https://api.alternative.me/v2/ticker/Bitcoin/?convert=USD\"\n",
    "eth_url = \"https://api.alternative.me/v2/ticker/Ethereum/?convert=USD\""
   ]
  },
  {
   "cell_type": "code",
   "execution_count": 6,
   "metadata": {},
   "outputs": [
    {
     "name": "stdout",
     "output_type": "stream",
     "text": [
      "The current value of your 1.2 BTC is $13868.89\n",
      "The current value of your 5.3 ETH is $2058.63\n"
     ]
    }
   ],
   "source": [
    "# Fetch current BTC price\n",
    "btc_response = requests.get(btc_url).json()\n",
    "#print(json.dumps(btc_response,indent=4))\n",
    "btc_price = btc_response[\"data\"][\"1\"][\"quotes\"][\"USD\"][\"price\"] \n",
    "\n",
    "# Fetch current ETH price\n",
    "eth_response = requests.get(eth_url).json()\n",
    "#print(json.dumps(eth_response,indent=4))\n",
    "eth_price = eth_response[\"data\"][\"1027\"][\"quotes\"][\"USD\"][\"price\"]\n",
    "\n",
    "# Compute current value of my crpto\n",
    "my_btc_value = my_btc * btc_price\n",
    "my_eth_value = my_eth * eth_price\n",
    "\n",
    "# Print current crypto wallet balance\n",
    "print(f\"The current value of your {my_btc} BTC is ${my_btc_value:0.2f}\")\n",
    "print(f\"The current value of your {my_eth} ETH is ${my_eth_value:0.2f}\")"
   ]
  },
  {
   "cell_type": "markdown",
   "metadata": {},
   "source": [
    "### Collect Investments Data Using Alpaca: SPY (stocks) and AGG (bonds)"
   ]
  },
  {
   "cell_type": "code",
   "execution_count": 7,
   "metadata": {},
   "outputs": [],
   "source": [
    "# Current amount of shares\n",
    "my_agg = 200\n",
    "my_spy = 50"
   ]
  },
  {
   "cell_type": "code",
   "execution_count": 8,
   "metadata": {},
   "outputs": [],
   "source": [
    "# Set Alpaca API key and secret\n",
    "alpaca_key = os.getenv(\"ALPACA_API_KEY\")\n",
    "alpaca_secret_key = os.getenv(\"ALPACA_SECRET_KEY\")\n",
    "\n",
    "# Create the Alpaca API object\n",
    "api = tradeapi.REST(\n",
    "    alpaca_key,\n",
    "    alpaca_secret_key,\n",
    "    api_version='v2')"
   ]
  },
  {
   "cell_type": "code",
   "execution_count": 9,
   "metadata": {},
   "outputs": [
    {
     "name": "stdout",
     "output_type": "stream",
     "text": [
      "Current AGG closing price: $117.705\n",
      "Current SPY closing price: $346.84\n"
     ]
    }
   ],
   "source": [
    "# Format current date as ISO format\n",
    "today = pd.Timestamp(\"2020-10-9\",tz='America/New_York').isoformat()\n",
    "\n",
    "# Set the tickers\n",
    "tickers = [\"AGG\", \"SPY\"]\n",
    "\n",
    "# Set timeframe to '1D' for Alpaca API\n",
    "timeframe = \"1D\"\n",
    "\n",
    "# Get current closing prices for SPY and AGG\n",
    "df_tickers = api.get_barset(\n",
    "    tickers,\n",
    "    timeframe,\n",
    "    start=today,\n",
    "    end=today\n",
    ").df\n",
    "\n",
    "df_tickers.index = df_tickers.index.date\n",
    "\n",
    "# Pick AGG and SPY close prices\n",
    "agg_close_price = float(df_tickers['AGG']['close'])\n",
    "spy_close_price = float(df_tickers['SPY']['close'])\n",
    "\n",
    "# Print AGG and SPY close prices\n",
    "print(f\"Current AGG closing price: ${agg_close_price}\")\n",
    "print(f\"Current SPY closing price: ${spy_close_price}\")"
   ]
  },
  {
   "cell_type": "code",
   "execution_count": 10,
   "metadata": {},
   "outputs": [
    {
     "name": "stdout",
     "output_type": "stream",
     "text": [
      "The current value of your 50 SPY shares is $17342.00\n",
      "The current value of your 200 AGG shares is $23541.00\n"
     ]
    }
   ],
   "source": [
    "# Compute the current value of shares\n",
    "my_spy_value = my_spy * spy_close_price\n",
    "my_agg_value = my_agg * agg_close_price\n",
    "\n",
    "# Print current value of share\n",
    "print(f\"The current value of your {my_spy} SPY shares is ${my_spy_value:0.2f}\")\n",
    "print(f\"The current value of your {my_agg} AGG shares is ${my_agg_value:0.2f}\")"
   ]
  },
  {
   "cell_type": "markdown",
   "metadata": {},
   "source": [
    "### Savings Health Analysis"
   ]
  },
  {
   "cell_type": "code",
   "execution_count": 11,
   "metadata": {},
   "outputs": [
    {
     "data": {
      "text/html": [
       "<div>\n",
       "<style scoped>\n",
       "    .dataframe tbody tr th:only-of-type {\n",
       "        vertical-align: middle;\n",
       "    }\n",
       "\n",
       "    .dataframe tbody tr th {\n",
       "        vertical-align: top;\n",
       "    }\n",
       "\n",
       "    .dataframe thead th {\n",
       "        text-align: right;\n",
       "    }\n",
       "</style>\n",
       "<table border=\"1\" class=\"dataframe\">\n",
       "  <thead>\n",
       "    <tr style=\"text-align: right;\">\n",
       "      <th></th>\n",
       "      <th>Amount</th>\n",
       "    </tr>\n",
       "  </thead>\n",
       "  <tbody>\n",
       "    <tr>\n",
       "      <th>Crypto</th>\n",
       "      <td>15927.518</td>\n",
       "    </tr>\n",
       "    <tr>\n",
       "      <th>Shares</th>\n",
       "      <td>40883.000</td>\n",
       "    </tr>\n",
       "  </tbody>\n",
       "</table>\n",
       "</div>"
      ],
      "text/plain": [
       "           Amount\n",
       "Crypto  15927.518\n",
       "Shares  40883.000"
      ]
     },
     "metadata": {},
     "output_type": "display_data"
    }
   ],
   "source": [
    "# Create savings DataFrame\n",
    "crypto = my_btc_value + my_eth_value\n",
    "shares = my_spy_value + my_agg_value\n",
    "\n",
    "df_savings = pd.DataFrame({'Amount':[crypto,shares]},\n",
    "             index=['Crypto','Shares'])\n",
    "\n",
    "# Display savings DataFrame\n",
    "display(df_savings)"
   ]
  },
  {
   "cell_type": "code",
   "execution_count": 12,
   "metadata": {},
   "outputs": [
    {
     "data": {
      "text/plain": [
       "<matplotlib.axes._subplots.AxesSubplot at 0x11e6ff790>"
      ]
     },
     "execution_count": 12,
     "metadata": {},
     "output_type": "execute_result"
    },
    {
     "data": {
      "image/png": "[encoded data removed]",
      "text/plain": [
       "<Figure size 432x288 with 1 Axes>"
      ]
     },
     "metadata": {},
     "output_type": "display_data"
    }
   ],
   "source": [
    "# Plot savings pie chart\n",
    "df_savings.plot.pie(y='Amount',title='Amount of Crypto vs Shares')"
   ]
  },
  {
   "cell_type": "code",
   "execution_count": 13,
   "metadata": {},
   "outputs": [
    {
     "name": "stdout",
     "output_type": "stream",
     "text": [
      "Congratulations! You have enough money in your emergency fund.\n"
     ]
    }
   ],
   "source": [
    "# Set ideal emergency fund\n",
    "emergency_fund = monthly_income * 3\n",
    "\n",
    "# Calculate total amount of savings\n",
    "total_savings = crypto + shares\n",
    "\n",
    "# Validate saving health\n",
    "if total_savings >= emergency_fund:\n",
    "    print(\"Congratulations! You have enough money in your emergency fund.\")\n",
    "else:\n",
    "    print(f\"You don't quite have enough savings for an ideal emergency fund. You have {total_savings} and an ideal amount is {emergency_fund}\")"
   ]
  },
  {
   "cell_type": "markdown",
   "metadata": {},
   "source": [
    "## Part 2 - Retirement Planning"
   ]
  },
  {
   "cell_type": "markdown",
   "metadata": {},
   "source": [
    "### Monte Carlo Simulation"
   ]
  },
  {
   "cell_type": "code",
   "execution_count": 14,
   "metadata": {},
   "outputs": [],
   "source": [
    "# Set start and end dates of five years back from today.\n",
    "# Sample results may vary from the solution based on the time frame chosen\n",
    "start_date = pd.Timestamp('2015-10-12', tz='America/New_York').isoformat()\n",
    "end_date = pd.Timestamp('2020-10-12', tz='America/New_York').isoformat()"
   ]
  },
  {
   "cell_type": "code",
   "execution_count": 15,
   "metadata": {},
   "outputs": [
    {
     "data": {
      "text/html": [
       "<div>\n",
       "<style scoped>\n",
       "    .dataframe tbody tr th:only-of-type {\n",
       "        vertical-align: middle;\n",
       "    }\n",
       "\n",
       "    .dataframe tbody tr th {\n",
       "        vertical-align: top;\n",
       "    }\n",
       "\n",
       "    .dataframe thead tr th {\n",
       "        text-align: left;\n",
       "    }\n",
       "</style>\n",
       "<table border=\"1\" class=\"dataframe\">\n",
       "  <thead>\n",
       "    <tr>\n",
       "      <th></th>\n",
       "      <th colspan=\"5\" halign=\"left\">AGG</th>\n",
       "      <th colspan=\"5\" halign=\"left\">SPY</th>\n",
       "    </tr>\n",
       "    <tr>\n",
       "      <th></th>\n",
       "      <th>open</th>\n",
       "      <th>high</th>\n",
       "      <th>low</th>\n",
       "      <th>close</th>\n",
       "      <th>volume</th>\n",
       "      <th>open</th>\n",
       "      <th>high</th>\n",
       "      <th>low</th>\n",
       "      <th>close</th>\n",
       "      <th>volume</th>\n",
       "    </tr>\n",
       "  </thead>\n",
       "  <tbody>\n",
       "    <tr>\n",
       "      <th>2015-10-12 00:00:00-04:00</th>\n",
       "      <td>109.48</td>\n",
       "      <td>109.6500</td>\n",
       "      <td>109.3300</td>\n",
       "      <td>109.63</td>\n",
       "      <td>816909</td>\n",
       "      <td>201.42</td>\n",
       "      <td>201.76</td>\n",
       "      <td>200.91</td>\n",
       "      <td>201.55</td>\n",
       "      <td>42032769</td>\n",
       "    </tr>\n",
       "    <tr>\n",
       "      <th>2015-10-13 00:00:00-04:00</th>\n",
       "      <td>109.62</td>\n",
       "      <td>109.7500</td>\n",
       "      <td>109.4900</td>\n",
       "      <td>109.63</td>\n",
       "      <td>1360561</td>\n",
       "      <td>200.65</td>\n",
       "      <td>202.16</td>\n",
       "      <td>200.05</td>\n",
       "      <td>200.22</td>\n",
       "      <td>72076783</td>\n",
       "    </tr>\n",
       "    <tr>\n",
       "      <th>2015-10-14 00:00:00-04:00</th>\n",
       "      <td>109.83</td>\n",
       "      <td>110.0500</td>\n",
       "      <td>109.7251</td>\n",
       "      <td>110.03</td>\n",
       "      <td>3785661</td>\n",
       "      <td>200.18</td>\n",
       "      <td>200.87</td>\n",
       "      <td>198.94</td>\n",
       "      <td>199.27</td>\n",
       "      <td>82856686</td>\n",
       "    </tr>\n",
       "    <tr>\n",
       "      <th>2015-10-15 00:00:00-04:00</th>\n",
       "      <td>109.93</td>\n",
       "      <td>110.0499</td>\n",
       "      <td>109.7900</td>\n",
       "      <td>109.89</td>\n",
       "      <td>1792325</td>\n",
       "      <td>200.08</td>\n",
       "      <td>202.34</td>\n",
       "      <td>199.64</td>\n",
       "      <td>202.33</td>\n",
       "      <td>96008389</td>\n",
       "    </tr>\n",
       "    <tr>\n",
       "      <th>2015-10-16 00:00:00-04:00</th>\n",
       "      <td>109.90</td>\n",
       "      <td>109.9400</td>\n",
       "      <td>109.7800</td>\n",
       "      <td>109.78</td>\n",
       "      <td>1497588</td>\n",
       "      <td>202.83</td>\n",
       "      <td>203.29</td>\n",
       "      <td>201.92</td>\n",
       "      <td>203.14</td>\n",
       "      <td>79323870</td>\n",
       "    </tr>\n",
       "  </tbody>\n",
       "</table>\n",
       "</div>"
      ],
      "text/plain": [
       "                              AGG                                       \\\n",
       "                             open      high       low   close   volume   \n",
       "2015-10-12 00:00:00-04:00  109.48  109.6500  109.3300  109.63   816909   \n",
       "2015-10-13 00:00:00-04:00  109.62  109.7500  109.4900  109.63  1360561   \n",
       "2015-10-14 00:00:00-04:00  109.83  110.0500  109.7251  110.03  3785661   \n",
       "2015-10-15 00:00:00-04:00  109.93  110.0499  109.7900  109.89  1792325   \n",
       "2015-10-16 00:00:00-04:00  109.90  109.9400  109.7800  109.78  1497588   \n",
       "\n",
       "                              SPY                                    \n",
       "                             open    high     low   close    volume  \n",
       "2015-10-12 00:00:00-04:00  201.42  201.76  200.91  201.55  42032769  \n",
       "2015-10-13 00:00:00-04:00  200.65  202.16  200.05  200.22  72076783  \n",
       "2015-10-14 00:00:00-04:00  200.18  200.87  198.94  199.27  82856686  \n",
       "2015-10-15 00:00:00-04:00  200.08  202.34  199.64  202.33  96008389  \n",
       "2015-10-16 00:00:00-04:00  202.83  203.29  201.92  203.14  79323870  "
      ]
     },
     "execution_count": 15,
     "metadata": {},
     "output_type": "execute_result"
    }
   ],
   "source": [
    "# Get 5 years' worth of historical data for SPY and AGG\n",
    "tickers = ['SPY','AGG']\n",
    "\n",
    "timeframe = '1D'\n",
    "\n",
    "df_stock_data = api.get_barset(\n",
    "    tickers,\n",
    "    timeframe,\n",
    "    start = start_date,\n",
    "    end = end_date\n",
    ").df\n",
    "# Display sample data\n",
    "df_stock_data.head()"
   ]
  },
  {
   "cell_type": "code",
   "execution_count": 16,
   "metadata": {},
   "outputs": [
    {
     "name": "stdout",
     "output_type": "stream",
     "text": [
      "Running Monte Carlo simulation number 0.\n",
      "Running Monte Carlo simulation number 10.\n",
      "Running Monte Carlo simulation number 20.\n",
      "Running Monte Carlo simulation number 30.\n",
      "Running Monte Carlo simulation number 40.\n",
      "Running Monte Carlo simulation number 50.\n",
      "Running Monte Carlo simulation number 60.\n",
      "Running Monte Carlo simulation number 70.\n",
      "Running Monte Carlo simulation number 80.\n",
      "Running Monte Carlo simulation number 90.\n",
      "Running Monte Carlo simulation number 100.\n",
      "Running Monte Carlo simulation number 110.\n",
      "Running Monte Carlo simulation number 120.\n",
      "Running Monte Carlo simulation number 130.\n",
      "Running Monte Carlo simulation number 140.\n",
      "Running Monte Carlo simulation number 150.\n",
      "Running Monte Carlo simulation number 160.\n",
      "Running Monte Carlo simulation number 170.\n",
      "Running Monte Carlo simulation number 180.\n",
      "Running Monte Carlo simulation number 190.\n",
      "Running Monte Carlo simulation number 200.\n",
      "Running Monte Carlo simulation number 210.\n",
      "Running Monte Carlo simulation number 220.\n",
      "Running Monte Carlo simulation number 230.\n",
      "Running Monte Carlo simulation number 240.\n",
      "Running Monte Carlo simulation number 250.\n",
      "Running Monte Carlo simulation number 260.\n",
      "Running Monte Carlo simulation number 270.\n",
      "Running Monte Carlo simulation number 280.\n",
      "Running Monte Carlo simulation number 290.\n",
      "Running Monte Carlo simulation number 300.\n",
      "Running Monte Carlo simulation number 310.\n",
      "Running Monte Carlo simulation number 320.\n",
      "Running Monte Carlo simulation number 330.\n",
      "Running Monte Carlo simulation number 340.\n",
      "Running Monte Carlo simulation number 350.\n",
      "Running Monte Carlo simulation number 360.\n",
      "Running Monte Carlo simulation number 370.\n",
      "Running Monte Carlo simulation number 380.\n",
      "Running Monte Carlo simulation number 390.\n",
      "Running Monte Carlo simulation number 400.\n",
      "Running Monte Carlo simulation number 410.\n",
      "Running Monte Carlo simulation number 420.\n",
      "Running Monte Carlo simulation number 430.\n",
      "Running Monte Carlo simulation number 440.\n",
      "Running Monte Carlo simulation number 450.\n",
      "Running Monte Carlo simulation number 460.\n",
      "Running Monte Carlo simulation number 470.\n",
      "Running Monte Carlo simulation number 480.\n",
      "Running Monte Carlo simulation number 490.\n"
     ]
    },
    {
     "data": {
      "text/html": [
       "<div>\n",
       "<style scoped>\n",
       "    .dataframe tbody tr th:only-of-type {\n",
       "        vertical-align: middle;\n",
       "    }\n",
       "\n",
       "    .dataframe tbody tr th {\n",
       "        vertical-align: top;\n",
       "    }\n",
       "\n",
       "    .dataframe thead th {\n",
       "        text-align: right;\n",
       "    }\n",
       "</style>\n",
       "<table border=\"1\" class=\"dataframe\">\n",
       "  <thead>\n",
       "    <tr style=\"text-align: right;\">\n",
       "      <th></th>\n",
       "      <th>0</th>\n",
       "      <th>1</th>\n",
       "      <th>2</th>\n",
       "      <th>3</th>\n",
       "      <th>4</th>\n",
       "      <th>5</th>\n",
       "      <th>6</th>\n",
       "      <th>7</th>\n",
       "      <th>8</th>\n",
       "      <th>9</th>\n",
       "      <th>...</th>\n",
       "      <th>490</th>\n",
       "      <th>491</th>\n",
       "      <th>492</th>\n",
       "      <th>493</th>\n",
       "      <th>494</th>\n",
       "      <th>495</th>\n",
       "      <th>496</th>\n",
       "      <th>497</th>\n",
       "      <th>498</th>\n",
       "      <th>499</th>\n",
       "    </tr>\n",
       "  </thead>\n",
       "  <tbody>\n",
       "    <tr>\n",
       "      <th>0</th>\n",
       "      <td>1.000000</td>\n",
       "      <td>1.000000</td>\n",
       "      <td>1.000000</td>\n",
       "      <td>1.000000</td>\n",
       "      <td>1.000000</td>\n",
       "      <td>1.000000</td>\n",
       "      <td>1.000000</td>\n",
       "      <td>1.000000</td>\n",
       "      <td>1.000000</td>\n",
       "      <td>1.000000</td>\n",
       "      <td>...</td>\n",
       "      <td>1.000000</td>\n",
       "      <td>1.000000</td>\n",
       "      <td>1.000000</td>\n",
       "      <td>1.000000</td>\n",
       "      <td>1.000000</td>\n",
       "      <td>1.000000</td>\n",
       "      <td>1.000000</td>\n",
       "      <td>1.000000</td>\n",
       "      <td>1.000000</td>\n",
       "      <td>1.000000</td>\n",
       "    </tr>\n",
       "    <tr>\n",
       "      <th>1</th>\n",
       "      <td>1.004396</td>\n",
       "      <td>1.000930</td>\n",
       "      <td>1.008412</td>\n",
       "      <td>1.006051</td>\n",
       "      <td>0.999949</td>\n",
       "      <td>1.002122</td>\n",
       "      <td>1.014193</td>\n",
       "      <td>1.015227</td>\n",
       "      <td>1.000092</td>\n",
       "      <td>0.999610</td>\n",
       "      <td>...</td>\n",
       "      <td>0.996264</td>\n",
       "      <td>1.005809</td>\n",
       "      <td>1.001408</td>\n",
       "      <td>1.001917</td>\n",
       "      <td>0.995957</td>\n",
       "      <td>0.999210</td>\n",
       "      <td>0.984526</td>\n",
       "      <td>1.001014</td>\n",
       "      <td>0.992042</td>\n",
       "      <td>0.990821</td>\n",
       "    </tr>\n",
       "    <tr>\n",
       "      <th>2</th>\n",
       "      <td>1.000418</td>\n",
       "      <td>0.996003</td>\n",
       "      <td>1.014693</td>\n",
       "      <td>1.016803</td>\n",
       "      <td>1.006588</td>\n",
       "      <td>1.013107</td>\n",
       "      <td>1.012730</td>\n",
       "      <td>1.017183</td>\n",
       "      <td>1.002197</td>\n",
       "      <td>0.994348</td>\n",
       "      <td>...</td>\n",
       "      <td>0.991329</td>\n",
       "      <td>1.006746</td>\n",
       "      <td>0.987552</td>\n",
       "      <td>0.999791</td>\n",
       "      <td>1.004420</td>\n",
       "      <td>0.989664</td>\n",
       "      <td>0.986869</td>\n",
       "      <td>1.003958</td>\n",
       "      <td>0.994418</td>\n",
       "      <td>0.997871</td>\n",
       "    </tr>\n",
       "    <tr>\n",
       "      <th>3</th>\n",
       "      <td>0.996891</td>\n",
       "      <td>0.997638</td>\n",
       "      <td>0.997198</td>\n",
       "      <td>1.016157</td>\n",
       "      <td>1.005698</td>\n",
       "      <td>1.001969</td>\n",
       "      <td>1.011963</td>\n",
       "      <td>1.019967</td>\n",
       "      <td>1.006574</td>\n",
       "      <td>0.989824</td>\n",
       "      <td>...</td>\n",
       "      <td>0.994088</td>\n",
       "      <td>1.020567</td>\n",
       "      <td>0.976002</td>\n",
       "      <td>1.005076</td>\n",
       "      <td>0.985245</td>\n",
       "      <td>0.985505</td>\n",
       "      <td>0.986045</td>\n",
       "      <td>0.987674</td>\n",
       "      <td>1.002970</td>\n",
       "      <td>0.999582</td>\n",
       "    </tr>\n",
       "    <tr>\n",
       "      <th>4</th>\n",
       "      <td>0.993448</td>\n",
       "      <td>0.993755</td>\n",
       "      <td>0.996728</td>\n",
       "      <td>1.014509</td>\n",
       "      <td>0.993628</td>\n",
       "      <td>1.000995</td>\n",
       "      <td>1.002746</td>\n",
       "      <td>1.017476</td>\n",
       "      <td>1.013633</td>\n",
       "      <td>0.988707</td>\n",
       "      <td>...</td>\n",
       "      <td>0.989874</td>\n",
       "      <td>1.020614</td>\n",
       "      <td>0.974954</td>\n",
       "      <td>0.998140</td>\n",
       "      <td>0.984071</td>\n",
       "      <td>0.984405</td>\n",
       "      <td>0.981230</td>\n",
       "      <td>0.981261</td>\n",
       "      <td>1.002368</td>\n",
       "      <td>1.010321</td>\n",
       "    </tr>\n",
       "    <tr>\n",
       "      <th>...</th>\n",
       "      <td>...</td>\n",
       "      <td>...</td>\n",
       "      <td>...</td>\n",
       "      <td>...</td>\n",
       "      <td>...</td>\n",
       "      <td>...</td>\n",
       "      <td>...</td>\n",
       "      <td>...</td>\n",
       "      <td>...</td>\n",
       "      <td>...</td>\n",
       "      <td>...</td>\n",
       "      <td>...</td>\n",
       "      <td>...</td>\n",
       "      <td>...</td>\n",
       "      <td>...</td>\n",
       "      <td>...</td>\n",
       "      <td>...</td>\n",
       "      <td>...</td>\n",
       "      <td>...</td>\n",
       "      <td>...</td>\n",
       "      <td>...</td>\n",
       "    </tr>\n",
       "    <tr>\n",
       "      <th>7556</th>\n",
       "      <td>5.762437</td>\n",
       "      <td>16.122572</td>\n",
       "      <td>12.020716</td>\n",
       "      <td>38.007720</td>\n",
       "      <td>14.854877</td>\n",
       "      <td>27.012172</td>\n",
       "      <td>9.441579</td>\n",
       "      <td>31.292493</td>\n",
       "      <td>10.158941</td>\n",
       "      <td>16.408501</td>\n",
       "      <td>...</td>\n",
       "      <td>6.649636</td>\n",
       "      <td>13.639349</td>\n",
       "      <td>41.248070</td>\n",
       "      <td>8.431334</td>\n",
       "      <td>11.058990</td>\n",
       "      <td>6.686634</td>\n",
       "      <td>5.332064</td>\n",
       "      <td>19.023211</td>\n",
       "      <td>26.724846</td>\n",
       "      <td>26.345819</td>\n",
       "    </tr>\n",
       "    <tr>\n",
       "      <th>7557</th>\n",
       "      <td>5.782041</td>\n",
       "      <td>16.299767</td>\n",
       "      <td>12.034634</td>\n",
       "      <td>37.945901</td>\n",
       "      <td>14.823646</td>\n",
       "      <td>27.387503</td>\n",
       "      <td>9.551775</td>\n",
       "      <td>31.231350</td>\n",
       "      <td>10.169403</td>\n",
       "      <td>16.402179</td>\n",
       "      <td>...</td>\n",
       "      <td>6.637327</td>\n",
       "      <td>13.861886</td>\n",
       "      <td>41.520971</td>\n",
       "      <td>8.375750</td>\n",
       "      <td>10.986234</td>\n",
       "      <td>6.771412</td>\n",
       "      <td>5.282223</td>\n",
       "      <td>18.986927</td>\n",
       "      <td>26.613027</td>\n",
       "      <td>26.288124</td>\n",
       "    </tr>\n",
       "    <tr>\n",
       "      <th>7558</th>\n",
       "      <td>5.756410</td>\n",
       "      <td>16.149357</td>\n",
       "      <td>12.174342</td>\n",
       "      <td>37.528292</td>\n",
       "      <td>14.936261</td>\n",
       "      <td>27.420806</td>\n",
       "      <td>9.620682</td>\n",
       "      <td>31.212757</td>\n",
       "      <td>10.195176</td>\n",
       "      <td>16.447423</td>\n",
       "      <td>...</td>\n",
       "      <td>6.640423</td>\n",
       "      <td>13.790855</td>\n",
       "      <td>42.189789</td>\n",
       "      <td>8.418630</td>\n",
       "      <td>11.004084</td>\n",
       "      <td>6.715299</td>\n",
       "      <td>5.345501</td>\n",
       "      <td>19.089447</td>\n",
       "      <td>26.467569</td>\n",
       "      <td>25.927119</td>\n",
       "    </tr>\n",
       "    <tr>\n",
       "      <th>7559</th>\n",
       "      <td>5.785535</td>\n",
       "      <td>16.071314</td>\n",
       "      <td>12.192412</td>\n",
       "      <td>37.751194</td>\n",
       "      <td>15.006347</td>\n",
       "      <td>27.479087</td>\n",
       "      <td>9.657626</td>\n",
       "      <td>30.831168</td>\n",
       "      <td>10.274786</td>\n",
       "      <td>16.436324</td>\n",
       "      <td>...</td>\n",
       "      <td>6.672917</td>\n",
       "      <td>13.677617</td>\n",
       "      <td>42.332850</td>\n",
       "      <td>8.439085</td>\n",
       "      <td>11.089260</td>\n",
       "      <td>6.718054</td>\n",
       "      <td>5.388894</td>\n",
       "      <td>19.020066</td>\n",
       "      <td>26.488524</td>\n",
       "      <td>25.614573</td>\n",
       "    </tr>\n",
       "    <tr>\n",
       "      <th>7560</th>\n",
       "      <td>5.790296</td>\n",
       "      <td>16.356342</td>\n",
       "      <td>12.309583</td>\n",
       "      <td>37.801015</td>\n",
       "      <td>14.995311</td>\n",
       "      <td>27.659238</td>\n",
       "      <td>9.564848</td>\n",
       "      <td>30.749839</td>\n",
       "      <td>10.210796</td>\n",
       "      <td>16.369644</td>\n",
       "      <td>...</td>\n",
       "      <td>6.681629</td>\n",
       "      <td>13.922095</td>\n",
       "      <td>42.235939</td>\n",
       "      <td>8.388438</td>\n",
       "      <td>11.156823</td>\n",
       "      <td>6.766068</td>\n",
       "      <td>5.392079</td>\n",
       "      <td>19.009062</td>\n",
       "      <td>26.513770</td>\n",
       "      <td>25.712428</td>\n",
       "    </tr>\n",
       "  </tbody>\n",
       "</table>\n",
       "<p>7561 rows × 500 columns</p>\n",
       "</div>"
      ],
      "text/plain": [
       "           0          1          2          3          4          5    \\\n",
       "0     1.000000   1.000000   1.000000   1.000000   1.000000   1.000000   \n",
       "1     1.004396   1.000930   1.008412   1.006051   0.999949   1.002122   \n",
       "2     1.000418   0.996003   1.014693   1.016803   1.006588   1.013107   \n",
       "3     0.996891   0.997638   0.997198   1.016157   1.005698   1.001969   \n",
       "4     0.993448   0.993755   0.996728   1.014509   0.993628   1.000995   \n",
       "...        ...        ...        ...        ...        ...        ...   \n",
       "7556  5.762437  16.122572  12.020716  38.007720  14.854877  27.012172   \n",
       "7557  5.782041  16.299767  12.034634  37.945901  14.823646  27.387503   \n",
       "7558  5.756410  16.149357  12.174342  37.528292  14.936261  27.420806   \n",
       "7559  5.785535  16.071314  12.192412  37.751194  15.006347  27.479087   \n",
       "7560  5.790296  16.356342  12.309583  37.801015  14.995311  27.659238   \n",
       "\n",
       "           6          7          8          9    ...       490        491  \\\n",
       "0     1.000000   1.000000   1.000000   1.000000  ...  1.000000   1.000000   \n",
       "1     1.014193   1.015227   1.000092   0.999610  ...  0.996264   1.005809   \n",
       "2     1.012730   1.017183   1.002197   0.994348  ...  0.991329   1.006746   \n",
       "3     1.011963   1.019967   1.006574   0.989824  ...  0.994088   1.020567   \n",
       "4     1.002746   1.017476   1.013633   0.988707  ...  0.989874   1.020614   \n",
       "...        ...        ...        ...        ...  ...       ...        ...   \n",
       "7556  9.441579  31.292493  10.158941  16.408501  ...  6.649636  13.639349   \n",
       "7557  9.551775  31.231350  10.169403  16.402179  ...  6.637327  13.861886   \n",
       "7558  9.620682  31.212757  10.195176  16.447423  ...  6.640423  13.790855   \n",
       "7559  9.657626  30.831168  10.274786  16.436324  ...  6.672917  13.677617   \n",
       "7560  9.564848  30.749839  10.210796  16.369644  ...  6.681629  13.922095   \n",
       "\n",
       "            492       493        494       495       496        497  \\\n",
       "0      1.000000  1.000000   1.000000  1.000000  1.000000   1.000000   \n",
       "1      1.001408  1.001917   0.995957  0.999210  0.984526   1.001014   \n",
       "2      0.987552  0.999791   1.004420  0.989664  0.986869   1.003958   \n",
       "3      0.976002  1.005076   0.985245  0.985505  0.986045   0.987674   \n",
       "4      0.974954  0.998140   0.984071  0.984405  0.981230   0.981261   \n",
       "...         ...       ...        ...       ...       ...        ...   \n",
       "7556  41.248070  8.431334  11.058990  6.686634  5.332064  19.023211   \n",
       "7557  41.520971  8.375750  10.986234  6.771412  5.282223  18.986927   \n",
       "7558  42.189789  8.418630  11.004084  6.715299  5.345501  19.089447   \n",
       "7559  42.332850  8.439085  11.089260  6.718054  5.388894  19.020066   \n",
       "7560  42.235939  8.388438  11.156823  6.766068  5.392079  19.009062   \n",
       "\n",
       "            498        499  \n",
       "0      1.000000   1.000000  \n",
       "1      0.992042   0.990821  \n",
       "2      0.994418   0.997871  \n",
       "3      1.002970   0.999582  \n",
       "4      1.002368   1.010321  \n",
       "...         ...        ...  \n",
       "7556  26.724846  26.345819  \n",
       "7557  26.613027  26.288124  \n",
       "7558  26.467569  25.927119  \n",
       "7559  26.488524  25.614573  \n",
       "7560  26.513770  25.712428  \n",
       "\n",
       "[7561 rows x 500 columns]"
      ]
     },
     "execution_count": 16,
     "metadata": {},
     "output_type": "execute_result"
    }
   ],
   "source": [
    "# Configuring a Monte Carlo simulation to forecast 30 years cumulative returns\n",
    "MC_stock_data = MCSimulation(\n",
    "    portfolio_data = df_stock_data,\n",
    "    weights = [0.4,0.6],\n",
    "    num_simulation = 500,\n",
    "    num_trading_days = 252*30)\n",
    "\n",
    "# Printing the simulation input data\n",
    "MC_stock_data.portfolio_data.head()\n",
    "\n",
    "# Running a Monte Carlo simulation to forecast 30 years cumulative returns\n",
    "MC_stock_data.calc_cumulative_return()"
   ]
  },
  {
   "cell_type": "code",
   "execution_count": 17,
   "metadata": {},
   "outputs": [
    {
     "data": {
      "text/plain": [
       "<matplotlib.axes._subplots.AxesSubplot at 0x11e7d0bd0>"
      ]
     },
     "execution_count": 17,
     "metadata": {},
     "output_type": "execute_result"
    },
    {
     "data": {
      "image/png": "[encoded data removed]",
      "text/plain": [
       "<Figure size 432x288 with 1 Axes>"
      ]
     },
     "metadata": {
      "needs_background": "light"
     },
     "output_type": "display_data"
    }
   ],
   "source": [
    "# Plot simulation outcomes\n",
    "MC_stock_data.plot_simulation()"
   ]
  },
  {
   "cell_type": "code",
   "execution_count": 18,
   "metadata": {},
   "outputs": [
    {
     "data": {
      "text/plain": [
       "<matplotlib.axes._subplots.AxesSubplot at 0x134eee150>"
      ]
     },
     "execution_count": 18,
     "metadata": {},
     "output_type": "execute_result"
    },
    {
     "data": {
      "image/png": "[encoded data removed]",
      "text/plain": [
       "<Figure size 432x288 with 1 Axes>"
      ]
     },
     "metadata": {
      "needs_background": "light"
     },
     "output_type": "display_data"
    }
   ],
   "source": [
    "# Plot probability distribution and confidence intervals\n",
    "MC_stock_data.plot_distribution()"
   ]
  },
  {
   "cell_type": "code",
   "execution_count": 19,
   "metadata": {},
   "outputs": [
    {
     "name": "stdout",
     "output_type": "stream",
     "text": [
      "count           500.000000\n",
      "mean             13.053908\n",
      "std               8.984452\n",
      "min               1.686657\n",
      "25%               6.671052\n",
      "50%              11.051846\n",
      "75%              16.916003\n",
      "max              68.402983\n",
      "95% CI Lower      3.154586\n",
      "95% CI Upper     36.053440\n",
      "Name: 7560, dtype: float64\n"
     ]
    }
   ],
   "source": [
    "# Fetch summary statistics from the Monte Carlo simulation results\n",
    "tbl = MC_stock_data.summarize_cumulative_return()\n",
    "print(tbl)"
   ]
  },
  {
   "cell_type": "markdown",
   "metadata": {},
   "source": [
    "### Given an initial investment of $20,000, what is the expected portfolio return in dollars at the 95% lower and upper confidence intervals?"
   ]
  },
  {
   "cell_type": "code",
   "execution_count": 20,
   "metadata": {},
   "outputs": [
    {
     "name": "stdout",
     "output_type": "stream",
     "text": [
      "There is a 95% chance that an initial investment of $20000 in the portfolio over the next 30 years will end within in the range of $63091.71 and $721068.79\n"
     ]
    }
   ],
   "source": [
    "# Set initial investment\n",
    "initial_investment = 20000\n",
    "\n",
    "# Use the lower and upper `95%` confidence intervals to calculate the range of the possible outcomes of our $20,000\n",
    "ci_lower = round(tbl[8]*initial_investment,2)\n",
    "ci_upper = round(tbl[9]*initial_investment,2)\n",
    "\n",
    "# Print results\n",
    "print(f\"There is a 95% chance that an initial investment of ${initial_investment} in the portfolio\"\n",
    "      f\" over the next 30 years will end within in the range of\"\n",
    "      f\" ${ci_lower} and ${ci_upper}\")"
   ]
  },
  {
   "cell_type": "markdown",
   "metadata": {},
   "source": [
    "### How would a 50% increase in the initial investment amount affect the expected portfolio return in dollars at the 95% lower and upper confidence intervals?"
   ]
  },
  {
   "cell_type": "code",
   "execution_count": 21,
   "metadata": {},
   "outputs": [
    {
     "name": "stdout",
     "output_type": "stream",
     "text": [
      "There is a 95% chance that an initial investment of $30000.0 in the portfolio over the next 30 years will end within in the range of $94637.57 and $1081603.19\n"
     ]
    }
   ],
   "source": [
    "# Set initial investment\n",
    "initial_investment = 20000 * 1.5\n",
    "\n",
    "# Use the lower and upper `95%` confidence intervals to calculate the range of the possible outcomes of our $30,000\n",
    "ci_lower = round(tbl[8]*initial_investment,2)\n",
    "ci_upper = round(tbl[9]*initial_investment,2)\n",
    "\n",
    "# Print results\n",
    "print(f\"There is a 95% chance that an initial investment of ${initial_investment} in the portfolio\"\n",
    "      f\" over the next 30 years will end within in the range of\"\n",
    "      f\" ${ci_lower} and ${ci_upper}\")"
   ]
  },
  {
   "cell_type": "raw",
   "metadata": {},
   "source": [
    "Increasing the initial investment from $20,000, to $30,000 will likely increase the lower 95% confidence interval by $32,524 and the upper 95% confidence interval by $357,618."
   ]
  },
  {
   "cell_type": "markdown",
   "metadata": {},
   "source": [
    "## Optional Challenge - Early Retirement"
   ]
  },
  {
   "cell_type": "markdown",
   "metadata": {},
   "source": [
    "### Five Years Retirement Option"
   ]
  },
  {
   "cell_type": "code",
   "execution_count": 22,
   "metadata": {},
   "outputs": [
    {
     "data": {
      "text/html": [
       "<div>\n",
       "<style scoped>\n",
       "    .dataframe tbody tr th:only-of-type {\n",
       "        vertical-align: middle;\n",
       "    }\n",
       "\n",
       "    .dataframe tbody tr th {\n",
       "        vertical-align: top;\n",
       "    }\n",
       "\n",
       "    .dataframe thead tr th {\n",
       "        text-align: left;\n",
       "    }\n",
       "</style>\n",
       "<table border=\"1\" class=\"dataframe\">\n",
       "  <thead>\n",
       "    <tr>\n",
       "      <th></th>\n",
       "      <th colspan=\"6\" halign=\"left\">AGG</th>\n",
       "      <th colspan=\"6\" halign=\"left\">SPY</th>\n",
       "    </tr>\n",
       "    <tr>\n",
       "      <th></th>\n",
       "      <th>open</th>\n",
       "      <th>high</th>\n",
       "      <th>low</th>\n",
       "      <th>close</th>\n",
       "      <th>volume</th>\n",
       "      <th>daily_return</th>\n",
       "      <th>open</th>\n",
       "      <th>high</th>\n",
       "      <th>low</th>\n",
       "      <th>close</th>\n",
       "      <th>volume</th>\n",
       "      <th>daily_return</th>\n",
       "    </tr>\n",
       "  </thead>\n",
       "  <tbody>\n",
       "    <tr>\n",
       "      <th>2015-10-12 00:00:00-04:00</th>\n",
       "      <td>109.48</td>\n",
       "      <td>109.6500</td>\n",
       "      <td>109.3300</td>\n",
       "      <td>109.63</td>\n",
       "      <td>816909</td>\n",
       "      <td>NaN</td>\n",
       "      <td>201.42</td>\n",
       "      <td>201.76</td>\n",
       "      <td>200.91</td>\n",
       "      <td>201.55</td>\n",
       "      <td>42032769</td>\n",
       "      <td>NaN</td>\n",
       "    </tr>\n",
       "    <tr>\n",
       "      <th>2015-10-13 00:00:00-04:00</th>\n",
       "      <td>109.62</td>\n",
       "      <td>109.7500</td>\n",
       "      <td>109.4900</td>\n",
       "      <td>109.63</td>\n",
       "      <td>1360561</td>\n",
       "      <td>0.000000</td>\n",
       "      <td>200.65</td>\n",
       "      <td>202.16</td>\n",
       "      <td>200.05</td>\n",
       "      <td>200.22</td>\n",
       "      <td>72076783</td>\n",
       "      <td>-0.006599</td>\n",
       "    </tr>\n",
       "    <tr>\n",
       "      <th>2015-10-14 00:00:00-04:00</th>\n",
       "      <td>109.83</td>\n",
       "      <td>110.0500</td>\n",
       "      <td>109.7251</td>\n",
       "      <td>110.03</td>\n",
       "      <td>3785661</td>\n",
       "      <td>0.003649</td>\n",
       "      <td>200.18</td>\n",
       "      <td>200.87</td>\n",
       "      <td>198.94</td>\n",
       "      <td>199.27</td>\n",
       "      <td>82856686</td>\n",
       "      <td>-0.004745</td>\n",
       "    </tr>\n",
       "    <tr>\n",
       "      <th>2015-10-15 00:00:00-04:00</th>\n",
       "      <td>109.93</td>\n",
       "      <td>110.0499</td>\n",
       "      <td>109.7900</td>\n",
       "      <td>109.89</td>\n",
       "      <td>1792325</td>\n",
       "      <td>-0.001272</td>\n",
       "      <td>200.08</td>\n",
       "      <td>202.34</td>\n",
       "      <td>199.64</td>\n",
       "      <td>202.33</td>\n",
       "      <td>96008389</td>\n",
       "      <td>0.015356</td>\n",
       "    </tr>\n",
       "    <tr>\n",
       "      <th>2015-10-16 00:00:00-04:00</th>\n",
       "      <td>109.90</td>\n",
       "      <td>109.9400</td>\n",
       "      <td>109.7800</td>\n",
       "      <td>109.78</td>\n",
       "      <td>1497588</td>\n",
       "      <td>-0.001001</td>\n",
       "      <td>202.83</td>\n",
       "      <td>203.29</td>\n",
       "      <td>201.92</td>\n",
       "      <td>203.14</td>\n",
       "      <td>79323870</td>\n",
       "      <td>0.004003</td>\n",
       "    </tr>\n",
       "  </tbody>\n",
       "</table>\n",
       "</div>"
      ],
      "text/plain": [
       "                              AGG                                       \\\n",
       "                             open      high       low   close   volume   \n",
       "2015-10-12 00:00:00-04:00  109.48  109.6500  109.3300  109.63   816909   \n",
       "2015-10-13 00:00:00-04:00  109.62  109.7500  109.4900  109.63  1360561   \n",
       "2015-10-14 00:00:00-04:00  109.83  110.0500  109.7251  110.03  3785661   \n",
       "2015-10-15 00:00:00-04:00  109.93  110.0499  109.7900  109.89  1792325   \n",
       "2015-10-16 00:00:00-04:00  109.90  109.9400  109.7800  109.78  1497588   \n",
       "\n",
       "                                           SPY                          \\\n",
       "                          daily_return    open    high     low   close   \n",
       "2015-10-12 00:00:00-04:00          NaN  201.42  201.76  200.91  201.55   \n",
       "2015-10-13 00:00:00-04:00     0.000000  200.65  202.16  200.05  200.22   \n",
       "2015-10-14 00:00:00-04:00     0.003649  200.18  200.87  198.94  199.27   \n",
       "2015-10-15 00:00:00-04:00    -0.001272  200.08  202.34  199.64  202.33   \n",
       "2015-10-16 00:00:00-04:00    -0.001001  202.83  203.29  201.92  203.14   \n",
       "\n",
       "                                                  \n",
       "                             volume daily_return  \n",
       "2015-10-12 00:00:00-04:00  42032769          NaN  \n",
       "2015-10-13 00:00:00-04:00  72076783    -0.006599  \n",
       "2015-10-14 00:00:00-04:00  82856686    -0.004745  \n",
       "2015-10-15 00:00:00-04:00  96008389     0.015356  \n",
       "2015-10-16 00:00:00-04:00  79323870     0.004003  "
      ]
     },
     "execution_count": 22,
     "metadata": {},
     "output_type": "execute_result"
    }
   ],
   "source": [
    "# Configuring a Monte Carlo simulation to forecast 5 years cumulative returns\n",
    "#Let's try a more aggressive portfolio with only 10% in bonds and 90% in stocks this time!\n",
    "\n",
    "MC_retire_early = MCSimulation(\n",
    "    portfolio_data=df_stock_data,\n",
    "    weights = [0.1,0.9],\n",
    "    num_simulation = 500,\n",
    "    num_trading_days = 252*5)\n",
    "\n",
    "MC_retire_early.portfolio_data.head()"
   ]
  },
  {
   "cell_type": "code",
   "execution_count": 23,
   "metadata": {},
   "outputs": [
    {
     "name": "stdout",
     "output_type": "stream",
     "text": [
      "Running Monte Carlo simulation number 0.\n",
      "Running Monte Carlo simulation number 10.\n",
      "Running Monte Carlo simulation number 20.\n",
      "Running Monte Carlo simulation number 30.\n",
      "Running Monte Carlo simulation number 40.\n",
      "Running Monte Carlo simulation number 50.\n",
      "Running Monte Carlo simulation number 60.\n",
      "Running Monte Carlo simulation number 70.\n",
      "Running Monte Carlo simulation number 80.\n",
      "Running Monte Carlo simulation number 90.\n",
      "Running Monte Carlo simulation number 100.\n",
      "Running Monte Carlo simulation number 110.\n",
      "Running Monte Carlo simulation number 120.\n",
      "Running Monte Carlo simulation number 130.\n",
      "Running Monte Carlo simulation number 140.\n",
      "Running Monte Carlo simulation number 150.\n",
      "Running Monte Carlo simulation number 160.\n",
      "Running Monte Carlo simulation number 170.\n",
      "Running Monte Carlo simulation number 180.\n",
      "Running Monte Carlo simulation number 190.\n",
      "Running Monte Carlo simulation number 200.\n",
      "Running Monte Carlo simulation number 210.\n",
      "Running Monte Carlo simulation number 220.\n",
      "Running Monte Carlo simulation number 230.\n",
      "Running Monte Carlo simulation number 240.\n",
      "Running Monte Carlo simulation number 250.\n",
      "Running Monte Carlo simulation number 260.\n",
      "Running Monte Carlo simulation number 270.\n",
      "Running Monte Carlo simulation number 280.\n",
      "Running Monte Carlo simulation number 290.\n",
      "Running Monte Carlo simulation number 300.\n",
      "Running Monte Carlo simulation number 310.\n",
      "Running Monte Carlo simulation number 320.\n",
      "Running Monte Carlo simulation number 330.\n",
      "Running Monte Carlo simulation number 340.\n",
      "Running Monte Carlo simulation number 350.\n",
      "Running Monte Carlo simulation number 360.\n",
      "Running Monte Carlo simulation number 370.\n",
      "Running Monte Carlo simulation number 380.\n",
      "Running Monte Carlo simulation number 390.\n",
      "Running Monte Carlo simulation number 400.\n",
      "Running Monte Carlo simulation number 410.\n",
      "Running Monte Carlo simulation number 420.\n",
      "Running Monte Carlo simulation number 430.\n",
      "Running Monte Carlo simulation number 440.\n",
      "Running Monte Carlo simulation number 450.\n",
      "Running Monte Carlo simulation number 460.\n",
      "Running Monte Carlo simulation number 470.\n",
      "Running Monte Carlo simulation number 480.\n",
      "Running Monte Carlo simulation number 490.\n"
     ]
    },
    {
     "data": {
      "text/html": [
       "<div>\n",
       "<style scoped>\n",
       "    .dataframe tbody tr th:only-of-type {\n",
       "        vertical-align: middle;\n",
       "    }\n",
       "\n",
       "    .dataframe tbody tr th {\n",
       "        vertical-align: top;\n",
       "    }\n",
       "\n",
       "    .dataframe thead th {\n",
       "        text-align: right;\n",
       "    }\n",
       "</style>\n",
       "<table border=\"1\" class=\"dataframe\">\n",
       "  <thead>\n",
       "    <tr style=\"text-align: right;\">\n",
       "      <th></th>\n",
       "      <th>0</th>\n",
       "      <th>1</th>\n",
       "      <th>2</th>\n",
       "      <th>3</th>\n",
       "      <th>4</th>\n",
       "      <th>5</th>\n",
       "      <th>6</th>\n",
       "      <th>7</th>\n",
       "      <th>8</th>\n",
       "      <th>9</th>\n",
       "      <th>...</th>\n",
       "      <th>490</th>\n",
       "      <th>491</th>\n",
       "      <th>492</th>\n",
       "      <th>493</th>\n",
       "      <th>494</th>\n",
       "      <th>495</th>\n",
       "      <th>496</th>\n",
       "      <th>497</th>\n",
       "      <th>498</th>\n",
       "      <th>499</th>\n",
       "    </tr>\n",
       "  </thead>\n",
       "  <tbody>\n",
       "    <tr>\n",
       "      <th>0</th>\n",
       "      <td>1.000000</td>\n",
       "      <td>1.000000</td>\n",
       "      <td>1.000000</td>\n",
       "      <td>1.000000</td>\n",
       "      <td>1.000000</td>\n",
       "      <td>1.000000</td>\n",
       "      <td>1.000000</td>\n",
       "      <td>1.000000</td>\n",
       "      <td>1.000000</td>\n",
       "      <td>1.000000</td>\n",
       "      <td>...</td>\n",
       "      <td>1.000000</td>\n",
       "      <td>1.000000</td>\n",
       "      <td>1.000000</td>\n",
       "      <td>1.000000</td>\n",
       "      <td>1.000000</td>\n",
       "      <td>1.000000</td>\n",
       "      <td>1.000000</td>\n",
       "      <td>1.000000</td>\n",
       "      <td>1.000000</td>\n",
       "      <td>1.000000</td>\n",
       "    </tr>\n",
       "    <tr>\n",
       "      <th>1</th>\n",
       "      <td>1.022123</td>\n",
       "      <td>1.021080</td>\n",
       "      <td>0.999800</td>\n",
       "      <td>1.006484</td>\n",
       "      <td>1.005156</td>\n",
       "      <td>0.998878</td>\n",
       "      <td>0.996907</td>\n",
       "      <td>0.994178</td>\n",
       "      <td>0.998133</td>\n",
       "      <td>1.012983</td>\n",
       "      <td>...</td>\n",
       "      <td>0.981597</td>\n",
       "      <td>1.017694</td>\n",
       "      <td>1.015563</td>\n",
       "      <td>0.994622</td>\n",
       "      <td>0.986885</td>\n",
       "      <td>1.019675</td>\n",
       "      <td>0.993055</td>\n",
       "      <td>0.974354</td>\n",
       "      <td>1.011239</td>\n",
       "      <td>0.995054</td>\n",
       "    </tr>\n",
       "    <tr>\n",
       "      <th>2</th>\n",
       "      <td>1.020004</td>\n",
       "      <td>1.001989</td>\n",
       "      <td>0.998533</td>\n",
       "      <td>0.996837</td>\n",
       "      <td>1.003929</td>\n",
       "      <td>1.024785</td>\n",
       "      <td>1.006918</td>\n",
       "      <td>0.996595</td>\n",
       "      <td>0.995734</td>\n",
       "      <td>1.024618</td>\n",
       "      <td>...</td>\n",
       "      <td>0.988331</td>\n",
       "      <td>1.023801</td>\n",
       "      <td>1.018941</td>\n",
       "      <td>1.011343</td>\n",
       "      <td>0.986025</td>\n",
       "      <td>1.017430</td>\n",
       "      <td>0.999775</td>\n",
       "      <td>0.979311</td>\n",
       "      <td>1.005842</td>\n",
       "      <td>0.995966</td>\n",
       "    </tr>\n",
       "    <tr>\n",
       "      <th>3</th>\n",
       "      <td>1.005278</td>\n",
       "      <td>0.997820</td>\n",
       "      <td>1.001189</td>\n",
       "      <td>1.019461</td>\n",
       "      <td>1.020218</td>\n",
       "      <td>1.027603</td>\n",
       "      <td>1.005637</td>\n",
       "      <td>1.003744</td>\n",
       "      <td>0.982192</td>\n",
       "      <td>1.017564</td>\n",
       "      <td>...</td>\n",
       "      <td>0.977237</td>\n",
       "      <td>1.016567</td>\n",
       "      <td>1.031472</td>\n",
       "      <td>1.025901</td>\n",
       "      <td>1.000607</td>\n",
       "      <td>1.029842</td>\n",
       "      <td>0.997739</td>\n",
       "      <td>0.985422</td>\n",
       "      <td>1.001777</td>\n",
       "      <td>1.003477</td>\n",
       "    </tr>\n",
       "    <tr>\n",
       "      <th>4</th>\n",
       "      <td>1.007950</td>\n",
       "      <td>1.014741</td>\n",
       "      <td>0.994665</td>\n",
       "      <td>1.027683</td>\n",
       "      <td>1.036917</td>\n",
       "      <td>1.035043</td>\n",
       "      <td>1.007604</td>\n",
       "      <td>1.007117</td>\n",
       "      <td>0.974606</td>\n",
       "      <td>1.016105</td>\n",
       "      <td>...</td>\n",
       "      <td>0.974884</td>\n",
       "      <td>1.023608</td>\n",
       "      <td>1.025148</td>\n",
       "      <td>1.034184</td>\n",
       "      <td>1.001800</td>\n",
       "      <td>1.043838</td>\n",
       "      <td>1.007532</td>\n",
       "      <td>0.992087</td>\n",
       "      <td>1.008838</td>\n",
       "      <td>1.004990</td>\n",
       "    </tr>\n",
       "    <tr>\n",
       "      <th>...</th>\n",
       "      <td>...</td>\n",
       "      <td>...</td>\n",
       "      <td>...</td>\n",
       "      <td>...</td>\n",
       "      <td>...</td>\n",
       "      <td>...</td>\n",
       "      <td>...</td>\n",
       "      <td>...</td>\n",
       "      <td>...</td>\n",
       "      <td>...</td>\n",
       "      <td>...</td>\n",
       "      <td>...</td>\n",
       "      <td>...</td>\n",
       "      <td>...</td>\n",
       "      <td>...</td>\n",
       "      <td>...</td>\n",
       "      <td>...</td>\n",
       "      <td>...</td>\n",
       "      <td>...</td>\n",
       "      <td>...</td>\n",
       "      <td>...</td>\n",
       "    </tr>\n",
       "    <tr>\n",
       "      <th>1256</th>\n",
       "      <td>1.826065</td>\n",
       "      <td>1.263626</td>\n",
       "      <td>1.100897</td>\n",
       "      <td>1.126268</td>\n",
       "      <td>0.897078</td>\n",
       "      <td>1.011218</td>\n",
       "      <td>1.246709</td>\n",
       "      <td>1.456978</td>\n",
       "      <td>1.528042</td>\n",
       "      <td>1.468787</td>\n",
       "      <td>...</td>\n",
       "      <td>2.272755</td>\n",
       "      <td>1.454974</td>\n",
       "      <td>2.380253</td>\n",
       "      <td>1.960616</td>\n",
       "      <td>1.612584</td>\n",
       "      <td>1.203125</td>\n",
       "      <td>2.608599</td>\n",
       "      <td>1.876868</td>\n",
       "      <td>1.337740</td>\n",
       "      <td>0.938739</td>\n",
       "    </tr>\n",
       "    <tr>\n",
       "      <th>1257</th>\n",
       "      <td>1.807159</td>\n",
       "      <td>1.259367</td>\n",
       "      <td>1.108402</td>\n",
       "      <td>1.138875</td>\n",
       "      <td>0.901459</td>\n",
       "      <td>0.996428</td>\n",
       "      <td>1.267995</td>\n",
       "      <td>1.470093</td>\n",
       "      <td>1.511323</td>\n",
       "      <td>1.454779</td>\n",
       "      <td>...</td>\n",
       "      <td>2.271884</td>\n",
       "      <td>1.454959</td>\n",
       "      <td>2.384817</td>\n",
       "      <td>1.941223</td>\n",
       "      <td>1.642173</td>\n",
       "      <td>1.219863</td>\n",
       "      <td>2.588354</td>\n",
       "      <td>1.879550</td>\n",
       "      <td>1.356142</td>\n",
       "      <td>0.940240</td>\n",
       "    </tr>\n",
       "    <tr>\n",
       "      <th>1258</th>\n",
       "      <td>1.808204</td>\n",
       "      <td>1.258014</td>\n",
       "      <td>1.121887</td>\n",
       "      <td>1.136980</td>\n",
       "      <td>0.903242</td>\n",
       "      <td>1.015212</td>\n",
       "      <td>1.280431</td>\n",
       "      <td>1.481392</td>\n",
       "      <td>1.497553</td>\n",
       "      <td>1.443955</td>\n",
       "      <td>...</td>\n",
       "      <td>2.251898</td>\n",
       "      <td>1.454349</td>\n",
       "      <td>2.405531</td>\n",
       "      <td>1.937371</td>\n",
       "      <td>1.632987</td>\n",
       "      <td>1.214678</td>\n",
       "      <td>2.613505</td>\n",
       "      <td>1.872252</td>\n",
       "      <td>1.346049</td>\n",
       "      <td>0.936335</td>\n",
       "    </tr>\n",
       "    <tr>\n",
       "      <th>1259</th>\n",
       "      <td>1.798164</td>\n",
       "      <td>1.267954</td>\n",
       "      <td>1.101878</td>\n",
       "      <td>1.144023</td>\n",
       "      <td>0.914337</td>\n",
       "      <td>0.998446</td>\n",
       "      <td>1.283952</td>\n",
       "      <td>1.475983</td>\n",
       "      <td>1.504452</td>\n",
       "      <td>1.440449</td>\n",
       "      <td>...</td>\n",
       "      <td>2.298942</td>\n",
       "      <td>1.436690</td>\n",
       "      <td>2.420741</td>\n",
       "      <td>1.960801</td>\n",
       "      <td>1.646133</td>\n",
       "      <td>1.212779</td>\n",
       "      <td>2.634979</td>\n",
       "      <td>1.880231</td>\n",
       "      <td>1.380837</td>\n",
       "      <td>0.936369</td>\n",
       "    </tr>\n",
       "    <tr>\n",
       "      <th>1260</th>\n",
       "      <td>1.779317</td>\n",
       "      <td>1.282328</td>\n",
       "      <td>1.077666</td>\n",
       "      <td>1.151223</td>\n",
       "      <td>0.930665</td>\n",
       "      <td>1.006878</td>\n",
       "      <td>1.295046</td>\n",
       "      <td>1.508956</td>\n",
       "      <td>1.489117</td>\n",
       "      <td>1.422629</td>\n",
       "      <td>...</td>\n",
       "      <td>2.296842</td>\n",
       "      <td>1.423319</td>\n",
       "      <td>2.445634</td>\n",
       "      <td>1.948497</td>\n",
       "      <td>1.644227</td>\n",
       "      <td>1.201940</td>\n",
       "      <td>2.677661</td>\n",
       "      <td>1.891744</td>\n",
       "      <td>1.371320</td>\n",
       "      <td>0.920878</td>\n",
       "    </tr>\n",
       "  </tbody>\n",
       "</table>\n",
       "<p>1261 rows × 500 columns</p>\n",
       "</div>"
      ],
      "text/plain": [
       "           0         1         2         3         4         5         6    \\\n",
       "0     1.000000  1.000000  1.000000  1.000000  1.000000  1.000000  1.000000   \n",
       "1     1.022123  1.021080  0.999800  1.006484  1.005156  0.998878  0.996907   \n",
       "2     1.020004  1.001989  0.998533  0.996837  1.003929  1.024785  1.006918   \n",
       "3     1.005278  0.997820  1.001189  1.019461  1.020218  1.027603  1.005637   \n",
       "4     1.007950  1.014741  0.994665  1.027683  1.036917  1.035043  1.007604   \n",
       "...        ...       ...       ...       ...       ...       ...       ...   \n",
       "1256  1.826065  1.263626  1.100897  1.126268  0.897078  1.011218  1.246709   \n",
       "1257  1.807159  1.259367  1.108402  1.138875  0.901459  0.996428  1.267995   \n",
       "1258  1.808204  1.258014  1.121887  1.136980  0.903242  1.015212  1.280431   \n",
       "1259  1.798164  1.267954  1.101878  1.144023  0.914337  0.998446  1.283952   \n",
       "1260  1.779317  1.282328  1.077666  1.151223  0.930665  1.006878  1.295046   \n",
       "\n",
       "           7         8         9    ...       490       491       492  \\\n",
       "0     1.000000  1.000000  1.000000  ...  1.000000  1.000000  1.000000   \n",
       "1     0.994178  0.998133  1.012983  ...  0.981597  1.017694  1.015563   \n",
       "2     0.996595  0.995734  1.024618  ...  0.988331  1.023801  1.018941   \n",
       "3     1.003744  0.982192  1.017564  ...  0.977237  1.016567  1.031472   \n",
       "4     1.007117  0.974606  1.016105  ...  0.974884  1.023608  1.025148   \n",
       "...        ...       ...       ...  ...       ...       ...       ...   \n",
       "1256  1.456978  1.528042  1.468787  ...  2.272755  1.454974  2.380253   \n",
       "1257  1.470093  1.511323  1.454779  ...  2.271884  1.454959  2.384817   \n",
       "1258  1.481392  1.497553  1.443955  ...  2.251898  1.454349  2.405531   \n",
       "1259  1.475983  1.504452  1.440449  ...  2.298942  1.436690  2.420741   \n",
       "1260  1.508956  1.489117  1.422629  ...  2.296842  1.423319  2.445634   \n",
       "\n",
       "           493       494       495       496       497       498       499  \n",
       "0     1.000000  1.000000  1.000000  1.000000  1.000000  1.000000  1.000000  \n",
       "1     0.994622  0.986885  1.019675  0.993055  0.974354  1.011239  0.995054  \n",
       "2     1.011343  0.986025  1.017430  0.999775  0.979311  1.005842  0.995966  \n",
       "3     1.025901  1.000607  1.029842  0.997739  0.985422  1.001777  1.003477  \n",
       "4     1.034184  1.001800  1.043838  1.007532  0.992087  1.008838  1.004990  \n",
       "...        ...       ...       ...       ...       ...       ...       ...  \n",
       "1256  1.960616  1.612584  1.203125  2.608599  1.876868  1.337740  0.938739  \n",
       "1257  1.941223  1.642173  1.219863  2.588354  1.879550  1.356142  0.940240  \n",
       "1258  1.937371  1.632987  1.214678  2.613505  1.872252  1.346049  0.936335  \n",
       "1259  1.960801  1.646133  1.212779  2.634979  1.880231  1.380837  0.936369  \n",
       "1260  1.948497  1.644227  1.201940  2.677661  1.891744  1.371320  0.920878  \n",
       "\n",
       "[1261 rows x 500 columns]"
      ]
     },
     "execution_count": 23,
     "metadata": {},
     "output_type": "execute_result"
    }
   ],
   "source": [
    "# Running a Monte Carlo simulation to forecast 5 years cumulative returns\n",
    "MC_retire_early.calc_cumulative_return()"
   ]
  },
  {
   "cell_type": "code",
   "execution_count": 24,
   "metadata": {},
   "outputs": [
    {
     "data": {
      "text/plain": [
       "<matplotlib.axes._subplots.AxesSubplot at 0x11eba3090>"
      ]
     },
     "execution_count": 24,
     "metadata": {},
     "output_type": "execute_result"
    },
    {
     "data": {
      "image/png": "[encoded data removed]",
      "text/plain": [
       "<Figure size 432x288 with 1 Axes>"
      ]
     },
     "metadata": {
      "needs_background": "light"
     },
     "output_type": "display_data"
    }
   ],
   "source": [
    "MC_retire_early.plot_simulation()"
   ]
  },
  {
   "cell_type": "code",
   "execution_count": 25,
   "metadata": {},
   "outputs": [
    {
     "data": {
      "text/plain": [
       "<matplotlib.axes._subplots.AxesSubplot at 0x11df49810>"
      ]
     },
     "execution_count": 25,
     "metadata": {},
     "output_type": "execute_result"
    },
    {
     "data": {
      "image/png": "[encoded data removed]",
      "text/plain": [
       "<Figure size 432x288 with 1 Axes>"
      ]
     },
     "metadata": {
      "needs_background": "light"
     },
     "output_type": "display_data"
    }
   ],
   "source": [
    "MC_retire_early.plot_distribution()"
   ]
  },
  {
   "cell_type": "code",
   "execution_count": 26,
   "metadata": {},
   "outputs": [
    {
     "data": {
      "text/plain": [
       "count           500.000000\n",
       "mean              1.834732\n",
       "std               0.760170\n",
       "min               0.511952\n",
       "25%               1.295541\n",
       "50%               1.667724\n",
       "75%               2.227163\n",
       "max               5.209850\n",
       "95% CI Lower      0.812402\n",
       "95% CI Upper      3.639772\n",
       "Name: 1260, dtype: float64"
      ]
     },
     "execution_count": 26,
     "metadata": {},
     "output_type": "execute_result"
    }
   ],
   "source": [
    "retire_early_tbl = MC_retire_early.summarize_cumulative_return()\n",
    "retire_early_tbl"
   ]
  },
  {
   "cell_type": "code",
   "execution_count": 27,
   "metadata": {},
   "outputs": [
    {
     "name": "stdout",
     "output_type": "stream",
     "text": [
      "There is a 95% chance that an initial investment of $195000 in the portfolio over the next 5 years will end within in the range of $158418.33 and $709755.59\n"
     ]
    }
   ],
   "source": [
    "# Set initial investment\n",
    "initial_investment = 195000\n",
    "\n",
    "# Use the lower and upper `95%` confidence intervals to calculate the range of the possible outcomes of our $20,000\n",
    "ci_lower = round(retire_early_tbl[8]*initial_investment,2)\n",
    "ci_upper = round(retire_early_tbl[9]*initial_investment,2)\n",
    "\n",
    "# Print results\n",
    "print(f\"There is a 95% chance that an initial investment of ${initial_investment} in the portfolio\"\n",
    "      f\" over the next 5 years will end within in the range of\"\n",
    "      f\" ${ci_lower} and ${ci_upper}\")"
   ]
  },
  {
   "cell_type": "raw",
   "metadata": {},
   "source": [
    "I compared this 30 year, 40/60 (bond/stock) portfolio to a 5 year 10/90 (bond/stock) porfolio. In order for the second portfolio to match the upper 95% confidence leve of the 30 year porfolio, it would need a much larger initial investment of $195,000 versus $30,000."
   ]
  },
  {
   "cell_type": "code",
   "execution_count": 28,
   "metadata": {},
   "outputs": [],
   "source": [
    "# Configuring a Monte Carlo simulation to forecast 5 years cumulative returns\n",
    "#Let's try a more aggressive portfolio with only 40% in bonds and 60% in stocks this time!\n",
    "\n",
    "MC_retire_early_2 = MCSimulation(\n",
    "    portfolio_data=df_stock_data,\n",
    "    weights = [0.4,0.6],\n",
    "    num_simulation = 500,\n",
    "    num_trading_days = 252*5)"
   ]
  },
  {
   "cell_type": "code",
   "execution_count": 29,
   "metadata": {},
   "outputs": [
    {
     "name": "stdout",
     "output_type": "stream",
     "text": [
      "Running Monte Carlo simulation number 0.\n",
      "Running Monte Carlo simulation number 10.\n",
      "Running Monte Carlo simulation number 20.\n",
      "Running Monte Carlo simulation number 30.\n",
      "Running Monte Carlo simulation number 40.\n",
      "Running Monte Carlo simulation number 50.\n",
      "Running Monte Carlo simulation number 60.\n",
      "Running Monte Carlo simulation number 70.\n",
      "Running Monte Carlo simulation number 80.\n",
      "Running Monte Carlo simulation number 90.\n",
      "Running Monte Carlo simulation number 100.\n",
      "Running Monte Carlo simulation number 110.\n",
      "Running Monte Carlo simulation number 120.\n",
      "Running Monte Carlo simulation number 130.\n",
      "Running Monte Carlo simulation number 140.\n",
      "Running Monte Carlo simulation number 150.\n",
      "Running Monte Carlo simulation number 160.\n",
      "Running Monte Carlo simulation number 170.\n",
      "Running Monte Carlo simulation number 180.\n",
      "Running Monte Carlo simulation number 190.\n",
      "Running Monte Carlo simulation number 200.\n",
      "Running Monte Carlo simulation number 210.\n",
      "Running Monte Carlo simulation number 220.\n",
      "Running Monte Carlo simulation number 230.\n",
      "Running Monte Carlo simulation number 240.\n",
      "Running Monte Carlo simulation number 250.\n",
      "Running Monte Carlo simulation number 260.\n",
      "Running Monte Carlo simulation number 270.\n",
      "Running Monte Carlo simulation number 280.\n",
      "Running Monte Carlo simulation number 290.\n",
      "Running Monte Carlo simulation number 300.\n",
      "Running Monte Carlo simulation number 310.\n",
      "Running Monte Carlo simulation number 320.\n",
      "Running Monte Carlo simulation number 330.\n",
      "Running Monte Carlo simulation number 340.\n",
      "Running Monte Carlo simulation number 350.\n",
      "Running Monte Carlo simulation number 360.\n",
      "Running Monte Carlo simulation number 370.\n",
      "Running Monte Carlo simulation number 380.\n",
      "Running Monte Carlo simulation number 390.\n",
      "Running Monte Carlo simulation number 400.\n",
      "Running Monte Carlo simulation number 410.\n",
      "Running Monte Carlo simulation number 420.\n",
      "Running Monte Carlo simulation number 430.\n",
      "Running Monte Carlo simulation number 440.\n",
      "Running Monte Carlo simulation number 450.\n",
      "Running Monte Carlo simulation number 460.\n",
      "Running Monte Carlo simulation number 470.\n",
      "Running Monte Carlo simulation number 480.\n",
      "Running Monte Carlo simulation number 490.\n"
     ]
    },
    {
     "data": {
      "text/plain": [
       "<matplotlib.axes._subplots.AxesSubplot at 0x1230f0550>"
      ]
     },
     "execution_count": 29,
     "metadata": {},
     "output_type": "execute_result"
    },
    {
     "data": {
      "image/png": "[encoded data removed]",
      "text/plain": [
       "<Figure size 432x288 with 1 Axes>"
      ]
     },
     "metadata": {
      "needs_background": "light"
     },
     "output_type": "display_data"
    }
   ],
   "source": [
    "MC_retire_early_2.plot_simulation()"
   ]
  },
  {
   "cell_type": "code",
   "execution_count": 30,
   "metadata": {},
   "outputs": [
    {
     "data": {
      "text/plain": [
       "<matplotlib.axes._subplots.AxesSubplot at 0x1210825d0>"
      ]
     },
     "execution_count": 30,
     "metadata": {},
     "output_type": "execute_result"
    },
    {
     "data": {
      "image/png": "[encoded data removed]",
      "text/plain": [
       "<Figure size 432x288 with 1 Axes>"
      ]
     },
     "metadata": {
      "needs_background": "light"
     },
     "output_type": "display_data"
    }
   ],
   "source": [
    "MC_retire_early_2.plot_distribution()"
   ]
  },
  {
   "cell_type": "code",
   "execution_count": 31,
   "metadata": {},
   "outputs": [
    {
     "data": {
      "text/plain": [
       "count           500.000000\n",
       "mean              1.544908\n",
       "std               0.421341\n",
       "min               0.714098\n",
       "25%               1.239989\n",
       "50%               1.495239\n",
       "75%               1.762015\n",
       "max               2.907769\n",
       "95% CI Lower      0.868615\n",
       "95% CI Upper      2.524248\n",
       "Name: 1260, dtype: float64"
      ]
     },
     "execution_count": 31,
     "metadata": {},
     "output_type": "execute_result"
    }
   ],
   "source": [
    "retire_early_2_tbl = MC_retire_early_2.summarize_cumulative_return()\n",
    "retire_early_2_tbl"
   ]
  },
  {
   "cell_type": "code",
   "execution_count": 32,
   "metadata": {},
   "outputs": [
    {
     "name": "stdout",
     "output_type": "stream",
     "text": [
      "There is a 95% chance that an initial investment of $195000 in the portfolio over the next 5 years will end within in the range of $169379.96 and $492228.31\n"
     ]
    }
   ],
   "source": [
    "# Set initial investment\n",
    "initial_investment = 195000\n",
    "\n",
    "# Use the lower and upper `95%` confidence intervals to calculate the range of the possible outcomes of our $20,000\n",
    "ci_lower = round(retire_early_2_tbl[8]*initial_investment,2)\n",
    "ci_upper = round(retire_early_2_tbl[9]*initial_investment,2)\n",
    "\n",
    "# Print results\n",
    "print(f\"There is a 95% chance that an initial investment of ${initial_investment} in the portfolio\"\n",
    "      f\" over the next 5 years will end within in the range of\"\n",
    "      f\" ${ci_lower} and ${ci_upper}\")"
   ]
  },
  {
   "cell_type": "code",
   "execution_count": null,
   "metadata": {},
   "outputs": [],
   "source": []
  }
 ],
 "metadata": {
  "kernelspec": {
   "display_name": "Python 3",
   "language": "python",
   "name": "python3"
  },
  "language_info": {
   "codemirror_mode": {
    "name": "ipython",
    "version": 3
   },
   "file_extension": ".py",
   "mimetype": "text/x-python",
   "name": "python",
   "nbconvert_exporter": "python",
   "pygments_lexer": "ipython3",
   "version": "3.7.6"
  }
 },
 "nbformat": 4,
 "nbformat_minor": 4
}
