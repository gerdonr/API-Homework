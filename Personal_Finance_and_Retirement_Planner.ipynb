{
 "cells": [
  {
   "cell_type": "code",
   "execution_count": 77,
   "metadata": {},
   "outputs": [],
   "source": [
    "# Initial imports\n",
    "import os\n",
    "import requests\n",
    "import pandas as pd\n",
    "from dotenv import load_dotenv\n",
    "import alpaca_trade_api as tradeapi\n",
    "from MCForecastTools import MCSimulation\n",
    "import json\n",
    "\n",
    "%matplotlib inline"
   ]
  },
  {
   "cell_type": "code",
   "execution_count": 78,
   "metadata": {},
   "outputs": [
    {
     "data": {
      "text/plain": [
       "True"
      ]
     },
     "execution_count": 78,
     "metadata": {},
     "output_type": "execute_result"
    }
   ],
   "source": [
    "# Load .env enviroment variables\n",
    "from dotenv import load_dotenv\n",
    "load_dotenv()"
   ]
  },
  {
   "cell_type": "markdown",
   "metadata": {},
   "source": [
    "## Part 1 - Personal Finance Planner"
   ]
  },
  {
   "cell_type": "code",
   "execution_count": 90,
   "metadata": {},
   "outputs": [],
   "source": [
    "# Set monthly household income\n",
    "monthly_income = 12000"
   ]
  },
  {
   "cell_type": "markdown",
   "metadata": {},
   "source": [
    "### Collect Crypto Prices Using the requests Library\n"
   ]
  },
  {
   "cell_type": "code",
   "execution_count": 80,
   "metadata": {},
   "outputs": [],
   "source": [
    "# Current amount of crypto assets\n",
    "my_btc = 1.2\n",
    "my_eth = 5.3"
   ]
  },
  {
   "cell_type": "code",
   "execution_count": 81,
   "metadata": {},
   "outputs": [],
   "source": [
    "# Crypto API URLs\n",
    "btc_url = \"https://api.alternative.me/v2/ticker/Bitcoin/?convert=USD\"\n",
    "eth_url = \"https://api.alternative.me/v2/ticker/Ethereum/?convert=USD\""
   ]
  },
  {
   "cell_type": "code",
   "execution_count": 101,
   "metadata": {},
   "outputs": [
    {
     "name": "stdout",
     "output_type": "stream",
     "text": [
      "The current value of your 1.2 BTC is $13882.57\n",
      "The current value of your 5.3 ETH is $2052.42\n"
     ]
    }
   ],
   "source": [
    "# Fetch current BTC price\n",
    "btc_response = requests.get(btc_url).json()\n",
    "#print(json.dumps(btc_response,indent=4))\n",
    "btc_price = btc_response[\"data\"][\"1\"][\"quotes\"][\"USD\"][\"price\"] \n",
    "\n",
    "# Fetch current ETH price\n",
    "eth_response = requests.get(eth_url).json()\n",
    "#print(json.dumps(eth_response,indent=4))\n",
    "eth_price = eth_response[\"data\"][\"1027\"][\"quotes\"][\"USD\"][\"price\"]\n",
    "\n",
    "# Compute current value of my crpto\n",
    "my_btc_value = my_btc * btc_price\n",
    "my_eth_value = my_eth * eth_price\n",
    "\n",
    "# Print current crypto wallet balance\n",
    "print(f\"The current value of your {my_btc} BTC is ${my_btc_value:0.2f}\")\n",
    "print(f\"The current value of your {my_eth} ETH is ${my_eth_value:0.2f}\")"
   ]
  },
  {
   "cell_type": "markdown",
   "metadata": {},
   "source": [
    "### Collect Investments Data Using Alpaca: SPY (stocks) and AGG (bonds)"
   ]
  },
  {
   "cell_type": "code",
   "execution_count": 83,
   "metadata": {},
   "outputs": [],
   "source": [
    "# Current amount of shares\n",
    "my_agg = 200\n",
    "my_spy = 50"
   ]
  },
  {
   "cell_type": "code",
   "execution_count": 84,
   "metadata": {},
   "outputs": [],
   "source": [
    "# Set Alpaca API key and secret\n",
    "alpaca_key = os.getenv(\"ALPACA_API_KEY\")\n",
    "alpaca_secret_key = os.getenv(\"ALPACA_SECRET_KEY\")\n",
    "\n",
    "# Create the Alpaca API object\n",
    "api = tradeapi.REST(\n",
    "    alpaca_key,\n",
    "    alpaca_secret_key,\n",
    "    api_version='v2')"
   ]
  },
  {
   "cell_type": "code",
   "execution_count": 85,
   "metadata": {},
   "outputs": [
    {
     "name": "stdout",
     "output_type": "stream",
     "text": [
      "Current AGG closing price: $117.705\n",
      "Current SPY closing price: $346.84\n"
     ]
    }
   ],
   "source": [
    "# Format current date as ISO format\n",
    "today = pd.Timestamp(\"2020-10-9\",tz='America/New_York').isoformat()\n",
    "\n",
    "# Set the tickers\n",
    "tickers = [\"AGG\", \"SPY\"]\n",
    "\n",
    "# Set timeframe to '1D' for Alpaca API\n",
    "timeframe = \"1D\"\n",
    "\n",
    "# Get current closing prices for SPY and AGG\n",
    "df_tickers = api.get_barset(\n",
    "    tickers,\n",
    "    timeframe,\n",
    "    start=today,\n",
    "    end=today\n",
    ").df\n",
    "\n",
    "df_tickers.index = df_tickers.index.date\n",
    "\n",
    "# Pick AGG and SPY close prices\n",
    "agg_close_price = float(df_tickers['AGG']['close'])\n",
    "spy_close_price = float(df_tickers['SPY']['close'])\n",
    "\n",
    "# Print AGG and SPY close prices\n",
    "print(f\"Current AGG closing price: ${agg_close_price}\")\n",
    "print(f\"Current SPY closing price: ${spy_close_price}\")"
   ]
  },
  {
   "cell_type": "code",
   "execution_count": 86,
   "metadata": {},
   "outputs": [
    {
     "name": "stdout",
     "output_type": "stream",
     "text": [
      "The current value of your 50 SPY shares is $17342.00\n",
      "The current value of your 200 AGG shares is $23541.00\n"
     ]
    }
   ],
   "source": [
    "# Compute the current value of shares\n",
    "my_spy_value = my_spy * spy_close_price\n",
    "my_agg_value = my_agg * agg_close_price\n",
    "\n",
    "# Print current value of share\n",
    "print(f\"The current value of your {my_spy} SPY shares is ${my_spy_value:0.2f}\")\n",
    "print(f\"The current value of your {my_agg} AGG shares is ${my_agg_value:0.2f}\")"
   ]
  },
  {
   "cell_type": "markdown",
   "metadata": {},
   "source": [
    "### Savings Health Analysis"
   ]
  },
  {
   "cell_type": "code",
   "execution_count": 95,
   "metadata": {},
   "outputs": [
    {
     "data": {
      "text/html": [
       "<div>\n",
       "<style scoped>\n",
       "    .dataframe tbody tr th:only-of-type {\n",
       "        vertical-align: middle;\n",
       "    }\n",
       "\n",
       "    .dataframe tbody tr th {\n",
       "        vertical-align: top;\n",
       "    }\n",
       "\n",
       "    .dataframe thead th {\n",
       "        text-align: right;\n",
       "    }\n",
       "</style>\n",
       "<table border=\"1\" class=\"dataframe\">\n",
       "  <thead>\n",
       "    <tr style=\"text-align: right;\">\n",
       "      <th></th>\n",
       "      <th>Amount</th>\n",
       "    </tr>\n",
       "  </thead>\n",
       "  <tbody>\n",
       "    <tr>\n",
       "      <th>Crypto</th>\n",
       "      <td>15892.594</td>\n",
       "    </tr>\n",
       "    <tr>\n",
       "      <th>Shares</th>\n",
       "      <td>40883.000</td>\n",
       "    </tr>\n",
       "  </tbody>\n",
       "</table>\n",
       "</div>"
      ],
      "text/plain": [
       "           Amount\n",
       "Crypto  15892.594\n",
       "Shares  40883.000"
      ]
     },
     "metadata": {},
     "output_type": "display_data"
    }
   ],
   "source": [
    "# Create savings DataFrame\n",
    "crypto = my_btc_value + my_eth_value\n",
    "shares = my_spy_value + my_agg_value\n",
    "\n",
    "df_savings = pd.DataFrame({'Amount':[crypto,shares]},\n",
    "             index=['Crypto','Shares'])\n",
    "\n",
    "# Display savings DataFrame\n",
    "display(df_savings)"
   ]
  },
  {
   "cell_type": "code",
   "execution_count": 96,
   "metadata": {},
   "outputs": [
    {
     "data": {
      "text/plain": [
       "<matplotlib.axes._subplots.AxesSubplot at 0x1178dff90>"
      ]
     },
     "execution_count": 96,
     "metadata": {},
     "output_type": "execute_result"
    },
    {
     "data": {
      "image/png": "[encoded data removed]",
      "text/plain": [
       "<Figure size 432x288 with 1 Axes>"
      ]
     },
     "metadata": {},
     "output_type": "display_data"
    }
   ],
   "source": [
    "# Plot savings pie chart\n",
    "df_savings.plot.pie(y='Amount',title='Amount of Crypto vs Shares')"
   ]
  },
  {
   "cell_type": "code",
   "execution_count": 93,
   "metadata": {},
   "outputs": [
    {
     "name": "stdout",
     "output_type": "stream",
     "text": [
      "Congratulations! You have enough money in your emergency fund.\n"
     ]
    }
   ],
   "source": [
    "# Set ideal emergency fund\n",
    "emergency_fund = monthly_income * 3\n",
    "\n",
    "# Calculate total amount of savings\n",
    "total_savings = crypto + shares\n",
    "\n",
    "# Validate saving health\n",
    "if total_savings >= emergency_fund:\n",
    "    print(\"Congratulations! You have enough money in your emergency fund.\")\n",
    "else:\n",
    "    print(f\"You don't quite have enough savings for an ideal emergency fund. You have {total_savings} and an ideal amount is {emergency_fund}\")"
   ]
  },
  {
   "cell_type": "markdown",
   "metadata": {},
   "source": [
    "## Part 2 - Retirement Planning"
   ]
  },
  {
   "cell_type": "markdown",
   "metadata": {},
   "source": [
    "### Monte Carlo Simulation"
   ]
  },
  {
   "cell_type": "code",
   "execution_count": 97,
   "metadata": {},
   "outputs": [],
   "source": [
    "# Set start and end dates of five years back from today.\n",
    "# Sample results may vary from the solution based on the time frame chosen\n",
    "start_date = pd.Timestamp('2015-10-12', tz='America/New_York').isoformat()\n",
    "end_date = pd.Timestamp('2020-10-12', tz='America/New_York').isoformat()"
   ]
  },
  {
   "cell_type": "code",
   "execution_count": 98,
   "metadata": {},
   "outputs": [
    {
     "data": {
      "text/html": [
       "<div>\n",
       "<style scoped>\n",
       "    .dataframe tbody tr th:only-of-type {\n",
       "        vertical-align: middle;\n",
       "    }\n",
       "\n",
       "    .dataframe tbody tr th {\n",
       "        vertical-align: top;\n",
       "    }\n",
       "\n",
       "    .dataframe thead tr th {\n",
       "        text-align: left;\n",
       "    }\n",
       "</style>\n",
       "<table border=\"1\" class=\"dataframe\">\n",
       "  <thead>\n",
       "    <tr>\n",
       "      <th></th>\n",
       "      <th colspan=\"5\" halign=\"left\">AGG</th>\n",
       "      <th colspan=\"5\" halign=\"left\">SPY</th>\n",
       "    </tr>\n",
       "    <tr>\n",
       "      <th></th>\n",
       "      <th>open</th>\n",
       "      <th>high</th>\n",
       "      <th>low</th>\n",
       "      <th>close</th>\n",
       "      <th>volume</th>\n",
       "      <th>open</th>\n",
       "      <th>high</th>\n",
       "      <th>low</th>\n",
       "      <th>close</th>\n",
       "      <th>volume</th>\n",
       "    </tr>\n",
       "  </thead>\n",
       "  <tbody>\n",
       "    <tr>\n",
       "      <th>2015-10-12 00:00:00-04:00</th>\n",
       "      <td>109.48</td>\n",
       "      <td>109.6500</td>\n",
       "      <td>109.3300</td>\n",
       "      <td>109.63</td>\n",
       "      <td>816909</td>\n",
       "      <td>201.42</td>\n",
       "      <td>201.76</td>\n",
       "      <td>200.91</td>\n",
       "      <td>201.55</td>\n",
       "      <td>42032769</td>\n",
       "    </tr>\n",
       "    <tr>\n",
       "      <th>2015-10-13 00:00:00-04:00</th>\n",
       "      <td>109.62</td>\n",
       "      <td>109.7500</td>\n",
       "      <td>109.4900</td>\n",
       "      <td>109.63</td>\n",
       "      <td>1360561</td>\n",
       "      <td>200.65</td>\n",
       "      <td>202.16</td>\n",
       "      <td>200.05</td>\n",
       "      <td>200.22</td>\n",
       "      <td>72076783</td>\n",
       "    </tr>\n",
       "    <tr>\n",
       "      <th>2015-10-14 00:00:00-04:00</th>\n",
       "      <td>109.83</td>\n",
       "      <td>110.0500</td>\n",
       "      <td>109.7251</td>\n",
       "      <td>110.03</td>\n",
       "      <td>3785661</td>\n",
       "      <td>200.18</td>\n",
       "      <td>200.87</td>\n",
       "      <td>198.94</td>\n",
       "      <td>199.27</td>\n",
       "      <td>82856686</td>\n",
       "    </tr>\n",
       "    <tr>\n",
       "      <th>2015-10-15 00:00:00-04:00</th>\n",
       "      <td>109.93</td>\n",
       "      <td>110.0499</td>\n",
       "      <td>109.7900</td>\n",
       "      <td>109.89</td>\n",
       "      <td>1792325</td>\n",
       "      <td>200.08</td>\n",
       "      <td>202.34</td>\n",
       "      <td>199.64</td>\n",
       "      <td>202.33</td>\n",
       "      <td>96008389</td>\n",
       "    </tr>\n",
       "    <tr>\n",
       "      <th>2015-10-16 00:00:00-04:00</th>\n",
       "      <td>109.90</td>\n",
       "      <td>109.9400</td>\n",
       "      <td>109.7800</td>\n",
       "      <td>109.78</td>\n",
       "      <td>1497588</td>\n",
       "      <td>202.83</td>\n",
       "      <td>203.29</td>\n",
       "      <td>201.92</td>\n",
       "      <td>203.14</td>\n",
       "      <td>79323870</td>\n",
       "    </tr>\n",
       "  </tbody>\n",
       "</table>\n",
       "</div>"
      ],
      "text/plain": [
       "                              AGG                                       \\\n",
       "                             open      high       low   close   volume   \n",
       "2015-10-12 00:00:00-04:00  109.48  109.6500  109.3300  109.63   816909   \n",
       "2015-10-13 00:00:00-04:00  109.62  109.7500  109.4900  109.63  1360561   \n",
       "2015-10-14 00:00:00-04:00  109.83  110.0500  109.7251  110.03  3785661   \n",
       "2015-10-15 00:00:00-04:00  109.93  110.0499  109.7900  109.89  1792325   \n",
       "2015-10-16 00:00:00-04:00  109.90  109.9400  109.7800  109.78  1497588   \n",
       "\n",
       "                              SPY                                    \n",
       "                             open    high     low   close    volume  \n",
       "2015-10-12 00:00:00-04:00  201.42  201.76  200.91  201.55  42032769  \n",
       "2015-10-13 00:00:00-04:00  200.65  202.16  200.05  200.22  72076783  \n",
       "2015-10-14 00:00:00-04:00  200.18  200.87  198.94  199.27  82856686  \n",
       "2015-10-15 00:00:00-04:00  200.08  202.34  199.64  202.33  96008389  \n",
       "2015-10-16 00:00:00-04:00  202.83  203.29  201.92  203.14  79323870  "
      ]
     },
     "execution_count": 98,
     "metadata": {},
     "output_type": "execute_result"
    }
   ],
   "source": [
    "# Get 5 years' worth of historical data for SPY and AGG\n",
    "tickers = ['SPY','AGG']\n",
    "\n",
    "timeframe = '1D'\n",
    "\n",
    "df_stock_data = api.get_barset(\n",
    "    tickers,\n",
    "    timeframe,\n",
    "    start = start_date,\n",
    "    end = end_date\n",
    ").df\n",
    "# Display sample data\n",
    "df_stock_data.head()"
   ]
  },
  {
   "cell_type": "code",
   "execution_count": 106,
   "metadata": {},
   "outputs": [
    {
     "name": "stdout",
     "output_type": "stream",
     "text": [
      "Running Monte Carlo simulation number 0.\n",
      "Running Monte Carlo simulation number 10.\n",
      "Running Monte Carlo simulation number 20.\n",
      "Running Monte Carlo simulation number 30.\n",
      "Running Monte Carlo simulation number 40.\n",
      "Running Monte Carlo simulation number 50.\n",
      "Running Monte Carlo simulation number 60.\n",
      "Running Monte Carlo simulation number 70.\n",
      "Running Monte Carlo simulation number 80.\n",
      "Running Monte Carlo simulation number 90.\n",
      "Running Monte Carlo simulation number 100.\n",
      "Running Monte Carlo simulation number 110.\n",
      "Running Monte Carlo simulation number 120.\n",
      "Running Monte Carlo simulation number 130.\n",
      "Running Monte Carlo simulation number 140.\n",
      "Running Monte Carlo simulation number 150.\n",
      "Running Monte Carlo simulation number 160.\n",
      "Running Monte Carlo simulation number 170.\n",
      "Running Monte Carlo simulation number 180.\n",
      "Running Monte Carlo simulation number 190.\n",
      "Running Monte Carlo simulation number 200.\n",
      "Running Monte Carlo simulation number 210.\n",
      "Running Monte Carlo simulation number 220.\n",
      "Running Monte Carlo simulation number 230.\n",
      "Running Monte Carlo simulation number 240.\n",
      "Running Monte Carlo simulation number 250.\n",
      "Running Monte Carlo simulation number 260.\n",
      "Running Monte Carlo simulation number 270.\n",
      "Running Monte Carlo simulation number 280.\n",
      "Running Monte Carlo simulation number 290.\n",
      "Running Monte Carlo simulation number 300.\n",
      "Running Monte Carlo simulation number 310.\n",
      "Running Monte Carlo simulation number 320.\n",
      "Running Monte Carlo simulation number 330.\n",
      "Running Monte Carlo simulation number 340.\n",
      "Running Monte Carlo simulation number 350.\n",
      "Running Monte Carlo simulation number 360.\n",
      "Running Monte Carlo simulation number 370.\n",
      "Running Monte Carlo simulation number 380.\n",
      "Running Monte Carlo simulation number 390.\n",
      "Running Monte Carlo simulation number 400.\n",
      "Running Monte Carlo simulation number 410.\n",
      "Running Monte Carlo simulation number 420.\n",
      "Running Monte Carlo simulation number 430.\n",
      "Running Monte Carlo simulation number 440.\n",
      "Running Monte Carlo simulation number 450.\n",
      "Running Monte Carlo simulation number 460.\n",
      "Running Monte Carlo simulation number 470.\n",
      "Running Monte Carlo simulation number 480.\n",
      "Running Monte Carlo simulation number 490.\n"
     ]
    },
    {
     "data": {
      "text/html": [
       "<div>\n",
       "<style scoped>\n",
       "    .dataframe tbody tr th:only-of-type {\n",
       "        vertical-align: middle;\n",
       "    }\n",
       "\n",
       "    .dataframe tbody tr th {\n",
       "        vertical-align: top;\n",
       "    }\n",
       "\n",
       "    .dataframe thead th {\n",
       "        text-align: right;\n",
       "    }\n",
       "</style>\n",
       "<table border=\"1\" class=\"dataframe\">\n",
       "  <thead>\n",
       "    <tr style=\"text-align: right;\">\n",
       "      <th></th>\n",
       "      <th>0</th>\n",
       "      <th>1</th>\n",
       "      <th>2</th>\n",
       "      <th>3</th>\n",
       "      <th>4</th>\n",
       "      <th>5</th>\n",
       "      <th>6</th>\n",
       "      <th>7</th>\n",
       "      <th>8</th>\n",
       "      <th>9</th>\n",
       "      <th>...</th>\n",
       "      <th>490</th>\n",
       "      <th>491</th>\n",
       "      <th>492</th>\n",
       "      <th>493</th>\n",
       "      <th>494</th>\n",
       "      <th>495</th>\n",
       "      <th>496</th>\n",
       "      <th>497</th>\n",
       "      <th>498</th>\n",
       "      <th>499</th>\n",
       "    </tr>\n",
       "  </thead>\n",
       "  <tbody>\n",
       "    <tr>\n",
       "      <th>0</th>\n",
       "      <td>1.000000</td>\n",
       "      <td>1.000000</td>\n",
       "      <td>1.000000</td>\n",
       "      <td>1.000000</td>\n",
       "      <td>1.000000</td>\n",
       "      <td>1.000000</td>\n",
       "      <td>1.000000</td>\n",
       "      <td>1.000000</td>\n",
       "      <td>1.000000</td>\n",
       "      <td>1.000000</td>\n",
       "      <td>...</td>\n",
       "      <td>1.000000</td>\n",
       "      <td>1.000000</td>\n",
       "      <td>1.000000</td>\n",
       "      <td>1.000000</td>\n",
       "      <td>1.000000</td>\n",
       "      <td>1.000000</td>\n",
       "      <td>1.000000</td>\n",
       "      <td>1.000000</td>\n",
       "      <td>1.000000</td>\n",
       "      <td>1.000000</td>\n",
       "    </tr>\n",
       "    <tr>\n",
       "      <th>1</th>\n",
       "      <td>0.995747</td>\n",
       "      <td>0.989058</td>\n",
       "      <td>1.012238</td>\n",
       "      <td>1.005541</td>\n",
       "      <td>0.993337</td>\n",
       "      <td>1.006330</td>\n",
       "      <td>0.985284</td>\n",
       "      <td>0.996246</td>\n",
       "      <td>0.994173</td>\n",
       "      <td>1.007680</td>\n",
       "      <td>...</td>\n",
       "      <td>1.002110</td>\n",
       "      <td>0.991213</td>\n",
       "      <td>1.000070</td>\n",
       "      <td>0.996682</td>\n",
       "      <td>0.996834</td>\n",
       "      <td>1.004922</td>\n",
       "      <td>1.004797</td>\n",
       "      <td>1.011952</td>\n",
       "      <td>1.001122</td>\n",
       "      <td>0.999805</td>\n",
       "    </tr>\n",
       "    <tr>\n",
       "      <th>2</th>\n",
       "      <td>1.007963</td>\n",
       "      <td>0.998736</td>\n",
       "      <td>1.004757</td>\n",
       "      <td>1.004715</td>\n",
       "      <td>0.988386</td>\n",
       "      <td>1.007822</td>\n",
       "      <td>0.989715</td>\n",
       "      <td>0.989299</td>\n",
       "      <td>0.992617</td>\n",
       "      <td>0.998951</td>\n",
       "      <td>...</td>\n",
       "      <td>1.003610</td>\n",
       "      <td>0.994514</td>\n",
       "      <td>1.003011</td>\n",
       "      <td>1.006978</td>\n",
       "      <td>0.990114</td>\n",
       "      <td>0.999026</td>\n",
       "      <td>0.993972</td>\n",
       "      <td>1.017813</td>\n",
       "      <td>1.014348</td>\n",
       "      <td>0.993019</td>\n",
       "    </tr>\n",
       "    <tr>\n",
       "      <th>3</th>\n",
       "      <td>1.008521</td>\n",
       "      <td>0.999680</td>\n",
       "      <td>0.998476</td>\n",
       "      <td>1.007760</td>\n",
       "      <td>0.994664</td>\n",
       "      <td>1.013615</td>\n",
       "      <td>0.995554</td>\n",
       "      <td>0.993112</td>\n",
       "      <td>0.991118</td>\n",
       "      <td>0.984516</td>\n",
       "      <td>...</td>\n",
       "      <td>1.001033</td>\n",
       "      <td>1.002232</td>\n",
       "      <td>0.993627</td>\n",
       "      <td>0.997821</td>\n",
       "      <td>0.988311</td>\n",
       "      <td>0.999500</td>\n",
       "      <td>0.985758</td>\n",
       "      <td>1.019782</td>\n",
       "      <td>1.016720</td>\n",
       "      <td>0.993344</td>\n",
       "    </tr>\n",
       "    <tr>\n",
       "      <th>4</th>\n",
       "      <td>1.014825</td>\n",
       "      <td>1.006388</td>\n",
       "      <td>1.003663</td>\n",
       "      <td>1.007250</td>\n",
       "      <td>0.999017</td>\n",
       "      <td>1.016468</td>\n",
       "      <td>0.990428</td>\n",
       "      <td>0.982645</td>\n",
       "      <td>0.991270</td>\n",
       "      <td>0.975756</td>\n",
       "      <td>...</td>\n",
       "      <td>1.009945</td>\n",
       "      <td>1.003707</td>\n",
       "      <td>0.989415</td>\n",
       "      <td>0.990073</td>\n",
       "      <td>0.977560</td>\n",
       "      <td>1.000452</td>\n",
       "      <td>0.990000</td>\n",
       "      <td>1.017578</td>\n",
       "      <td>1.001853</td>\n",
       "      <td>0.998095</td>\n",
       "    </tr>\n",
       "    <tr>\n",
       "      <th>...</th>\n",
       "      <td>...</td>\n",
       "      <td>...</td>\n",
       "      <td>...</td>\n",
       "      <td>...</td>\n",
       "      <td>...</td>\n",
       "      <td>...</td>\n",
       "      <td>...</td>\n",
       "      <td>...</td>\n",
       "      <td>...</td>\n",
       "      <td>...</td>\n",
       "      <td>...</td>\n",
       "      <td>...</td>\n",
       "      <td>...</td>\n",
       "      <td>...</td>\n",
       "      <td>...</td>\n",
       "      <td>...</td>\n",
       "      <td>...</td>\n",
       "      <td>...</td>\n",
       "      <td>...</td>\n",
       "      <td>...</td>\n",
       "      <td>...</td>\n",
       "    </tr>\n",
       "    <tr>\n",
       "      <th>7556</th>\n",
       "      <td>7.923082</td>\n",
       "      <td>19.480368</td>\n",
       "      <td>7.911527</td>\n",
       "      <td>2.965805</td>\n",
       "      <td>13.509623</td>\n",
       "      <td>10.968981</td>\n",
       "      <td>5.619505</td>\n",
       "      <td>20.375514</td>\n",
       "      <td>21.437160</td>\n",
       "      <td>13.940245</td>\n",
       "      <td>...</td>\n",
       "      <td>14.951010</td>\n",
       "      <td>23.090954</td>\n",
       "      <td>8.392100</td>\n",
       "      <td>7.034606</td>\n",
       "      <td>6.337895</td>\n",
       "      <td>9.154095</td>\n",
       "      <td>23.767461</td>\n",
       "      <td>4.984399</td>\n",
       "      <td>13.065864</td>\n",
       "      <td>15.264824</td>\n",
       "    </tr>\n",
       "    <tr>\n",
       "      <th>7557</th>\n",
       "      <td>7.953873</td>\n",
       "      <td>19.509329</td>\n",
       "      <td>7.855646</td>\n",
       "      <td>2.977717</td>\n",
       "      <td>13.420897</td>\n",
       "      <td>10.877407</td>\n",
       "      <td>5.595011</td>\n",
       "      <td>20.396507</td>\n",
       "      <td>21.274677</td>\n",
       "      <td>14.026540</td>\n",
       "      <td>...</td>\n",
       "      <td>14.791451</td>\n",
       "      <td>23.353561</td>\n",
       "      <td>8.435548</td>\n",
       "      <td>7.017523</td>\n",
       "      <td>6.255051</td>\n",
       "      <td>9.039629</td>\n",
       "      <td>23.649228</td>\n",
       "      <td>4.972429</td>\n",
       "      <td>13.211619</td>\n",
       "      <td>15.170908</td>\n",
       "    </tr>\n",
       "    <tr>\n",
       "      <th>7558</th>\n",
       "      <td>8.017143</td>\n",
       "      <td>19.257254</td>\n",
       "      <td>7.902257</td>\n",
       "      <td>2.930445</td>\n",
       "      <td>13.429864</td>\n",
       "      <td>10.886287</td>\n",
       "      <td>5.671996</td>\n",
       "      <td>20.466646</td>\n",
       "      <td>21.206804</td>\n",
       "      <td>14.069552</td>\n",
       "      <td>...</td>\n",
       "      <td>14.669842</td>\n",
       "      <td>23.199378</td>\n",
       "      <td>8.446097</td>\n",
       "      <td>7.038784</td>\n",
       "      <td>6.274219</td>\n",
       "      <td>8.994686</td>\n",
       "      <td>23.694999</td>\n",
       "      <td>5.044294</td>\n",
       "      <td>13.243294</td>\n",
       "      <td>15.106174</td>\n",
       "    </tr>\n",
       "    <tr>\n",
       "      <th>7559</th>\n",
       "      <td>7.916109</td>\n",
       "      <td>19.136042</td>\n",
       "      <td>7.941198</td>\n",
       "      <td>2.960755</td>\n",
       "      <td>13.546202</td>\n",
       "      <td>10.783170</td>\n",
       "      <td>5.687453</td>\n",
       "      <td>20.629679</td>\n",
       "      <td>20.888613</td>\n",
       "      <td>14.074684</td>\n",
       "      <td>...</td>\n",
       "      <td>14.643206</td>\n",
       "      <td>23.123181</td>\n",
       "      <td>8.369199</td>\n",
       "      <td>7.014426</td>\n",
       "      <td>6.222047</td>\n",
       "      <td>8.927455</td>\n",
       "      <td>23.620982</td>\n",
       "      <td>5.070114</td>\n",
       "      <td>13.287177</td>\n",
       "      <td>15.036495</td>\n",
       "    </tr>\n",
       "    <tr>\n",
       "      <th>7560</th>\n",
       "      <td>7.887699</td>\n",
       "      <td>18.973372</td>\n",
       "      <td>7.994528</td>\n",
       "      <td>2.918528</td>\n",
       "      <td>13.568040</td>\n",
       "      <td>10.849290</td>\n",
       "      <td>5.755374</td>\n",
       "      <td>20.906423</td>\n",
       "      <td>21.075717</td>\n",
       "      <td>14.163867</td>\n",
       "      <td>...</td>\n",
       "      <td>14.758043</td>\n",
       "      <td>23.213139</td>\n",
       "      <td>8.432197</td>\n",
       "      <td>6.929327</td>\n",
       "      <td>6.207474</td>\n",
       "      <td>8.904937</td>\n",
       "      <td>23.698246</td>\n",
       "      <td>5.071217</td>\n",
       "      <td>13.266255</td>\n",
       "      <td>14.986471</td>\n",
       "    </tr>\n",
       "  </tbody>\n",
       "</table>\n",
       "<p>7561 rows × 500 columns</p>\n",
       "</div>"
      ],
      "text/plain": [
       "           0          1         2         3          4          5         6    \\\n",
       "0     1.000000   1.000000  1.000000  1.000000   1.000000   1.000000  1.000000   \n",
       "1     0.995747   0.989058  1.012238  1.005541   0.993337   1.006330  0.985284   \n",
       "2     1.007963   0.998736  1.004757  1.004715   0.988386   1.007822  0.989715   \n",
       "3     1.008521   0.999680  0.998476  1.007760   0.994664   1.013615  0.995554   \n",
       "4     1.014825   1.006388  1.003663  1.007250   0.999017   1.016468  0.990428   \n",
       "...        ...        ...       ...       ...        ...        ...       ...   \n",
       "7556  7.923082  19.480368  7.911527  2.965805  13.509623  10.968981  5.619505   \n",
       "7557  7.953873  19.509329  7.855646  2.977717  13.420897  10.877407  5.595011   \n",
       "7558  8.017143  19.257254  7.902257  2.930445  13.429864  10.886287  5.671996   \n",
       "7559  7.916109  19.136042  7.941198  2.960755  13.546202  10.783170  5.687453   \n",
       "7560  7.887699  18.973372  7.994528  2.918528  13.568040  10.849290  5.755374   \n",
       "\n",
       "            7          8          9    ...        490        491       492  \\\n",
       "0      1.000000   1.000000   1.000000  ...   1.000000   1.000000  1.000000   \n",
       "1      0.996246   0.994173   1.007680  ...   1.002110   0.991213  1.000070   \n",
       "2      0.989299   0.992617   0.998951  ...   1.003610   0.994514  1.003011   \n",
       "3      0.993112   0.991118   0.984516  ...   1.001033   1.002232  0.993627   \n",
       "4      0.982645   0.991270   0.975756  ...   1.009945   1.003707  0.989415   \n",
       "...         ...        ...        ...  ...        ...        ...       ...   \n",
       "7556  20.375514  21.437160  13.940245  ...  14.951010  23.090954  8.392100   \n",
       "7557  20.396507  21.274677  14.026540  ...  14.791451  23.353561  8.435548   \n",
       "7558  20.466646  21.206804  14.069552  ...  14.669842  23.199378  8.446097   \n",
       "7559  20.629679  20.888613  14.074684  ...  14.643206  23.123181  8.369199   \n",
       "7560  20.906423  21.075717  14.163867  ...  14.758043  23.213139  8.432197   \n",
       "\n",
       "           493       494       495        496       497        498        499  \n",
       "0     1.000000  1.000000  1.000000   1.000000  1.000000   1.000000   1.000000  \n",
       "1     0.996682  0.996834  1.004922   1.004797  1.011952   1.001122   0.999805  \n",
       "2     1.006978  0.990114  0.999026   0.993972  1.017813   1.014348   0.993019  \n",
       "3     0.997821  0.988311  0.999500   0.985758  1.019782   1.016720   0.993344  \n",
       "4     0.990073  0.977560  1.000452   0.990000  1.017578   1.001853   0.998095  \n",
       "...        ...       ...       ...        ...       ...        ...        ...  \n",
       "7556  7.034606  6.337895  9.154095  23.767461  4.984399  13.065864  15.264824  \n",
       "7557  7.017523  6.255051  9.039629  23.649228  4.972429  13.211619  15.170908  \n",
       "7558  7.038784  6.274219  8.994686  23.694999  5.044294  13.243294  15.106174  \n",
       "7559  7.014426  6.222047  8.927455  23.620982  5.070114  13.287177  15.036495  \n",
       "7560  6.929327  6.207474  8.904937  23.698246  5.071217  13.266255  14.986471  \n",
       "\n",
       "[7561 rows x 500 columns]"
      ]
     },
     "execution_count": 106,
     "metadata": {},
     "output_type": "execute_result"
    }
   ],
   "source": [
    "# Configuring a Monte Carlo simulation to forecast 30 years cumulative returns\n",
    "MC_stock_data = MCSimulation(\n",
    "    portfolio_data = df_stock_data,\n",
    "    weights = [0.4,0.6],\n",
    "    num_simulation = 500,\n",
    "    num_trading_days = 252*30)\n",
    "\n",
    "# Printing the simulation input data\n",
    "MC_stock_data.portfolio_data.head()\n",
    "\n",
    "# Running a Monte Carlo simulation to forecast 30 years cumulative returns\n",
    "MC_stock_data.calc_cumulative_return()"
   ]
  },
  {
   "cell_type": "code",
   "execution_count": 108,
   "metadata": {},
   "outputs": [
    {
     "data": {
      "text/plain": [
       "<matplotlib.axes._subplots.AxesSubplot at 0x117879890>"
      ]
     },
     "execution_count": 108,
     "metadata": {},
     "output_type": "execute_result"
    },
    {
     "data": {
      "image/png": "[encoded data removed]",
      "text/plain": [
       "<Figure size 432x288 with 1 Axes>"
      ]
     },
     "metadata": {
      "needs_background": "light"
     },
     "output_type": "display_data"
    }
   ],
   "source": [
    "# Plot simulation outcomes\n",
    "MC_stock_data.plot_simulation()"
   ]
  },
  {
   "cell_type": "code",
   "execution_count": 109,
   "metadata": {},
   "outputs": [
    {
     "data": {
      "text/plain": [
       "<matplotlib.axes._subplots.AxesSubplot at 0x129ea72d0>"
      ]
     },
     "execution_count": 109,
     "metadata": {},
     "output_type": "execute_result"
    },
    {
     "data": {
      "image/png": "[encoded data removed]",
      "text/plain": [
       "<Figure size 432x288 with 1 Axes>"
      ]
     },
     "metadata": {
      "needs_background": "light"
     },
     "output_type": "display_data"
    }
   ],
   "source": [
    "# Plot probability distribution and confidence intervals\n",
    "MC_stock_data.plot_distribution()"
   ]
  },
  {
   "cell_type": "code",
   "execution_count": 112,
   "metadata": {},
   "outputs": [
    {
     "name": "stdout",
     "output_type": "stream",
     "text": [
      "count           500.000000\n",
      "mean             13.334609\n",
      "std              11.137491\n",
      "min               1.974592\n",
      "25%               7.011244\n",
      "50%              10.716164\n",
      "75%              16.326818\n",
      "max             169.969135\n",
      "95% CI Lower      3.252390\n",
      "95% CI Upper     35.761775\n",
      "Name: 7560, dtype: float64\n"
     ]
    }
   ],
   "source": [
    "# Fetch summary statistics from the Monte Carlo simulation results\n",
    "tbl = MC_stock_data.summarize_cumulative_return()\n",
    "print(tbl)"
   ]
  },
  {
   "cell_type": "markdown",
   "metadata": {},
   "source": [
    "### Given an initial investment of $20,000, what is the expected portfolio return in dollars at the 95% lower and upper confidence intervals?"
   ]
  },
  {
   "cell_type": "code",
   "execution_count": 116,
   "metadata": {},
   "outputs": [
    {
     "name": "stdout",
     "output_type": "stream",
     "text": [
      "There is a 95% chance that an initial investment of $20000 in the portfolio over the next 30 years will end within in the range of $65047.8 and $715235.5\n"
     ]
    }
   ],
   "source": [
    "# Set initial investment\n",
    "initial_investment = 20000\n",
    "\n",
    "# Use the lower and upper `95%` confidence intervals to calculate the range of the possible outcomes of our $20,000\n",
    "ci_lower = round(tbl[8]*initial_investment,2)\n",
    "ci_upper = round(tbl[9]*initial_investment,2)\n",
    "\n",
    "# Print results\n",
    "print(f\"There is a 95% chance that an initial investment of ${initial_investment} in the portfolio\"\n",
    "      f\" over the next 30 years will end within in the range of\"\n",
    "      f\" ${ci_lower} and ${ci_upper}\")"
   ]
  },
  {
   "cell_type": "markdown",
   "metadata": {},
   "source": [
    "### How would a 50% increase in the initial investment amount affect the expected portfolio return in dollars at the 95% lower and upper confidence intervals?"
   ]
  },
  {
   "cell_type": "code",
   "execution_count": 117,
   "metadata": {},
   "outputs": [
    {
     "name": "stdout",
     "output_type": "stream",
     "text": [
      "There is a 95% chance that an initial investment of $30000.0 in the portfolio over the next 30 years will end within in the range of $97571.7 and $1072853.26\n"
     ]
    }
   ],
   "source": [
    "# Set initial investment\n",
    "initial_investment = 20000 * 1.5\n",
    "\n",
    "# Use the lower and upper `95%` confidence intervals to calculate the range of the possible outcomes of our $30,000\n",
    "ci_lower = round(tbl[8]*initial_investment,2)\n",
    "ci_upper = round(tbl[9]*initial_investment,2)\n",
    "\n",
    "# Print results\n",
    "print(f\"There is a 95% chance that an initial investment of ${initial_investment} in the portfolio\"\n",
    "      f\" over the next 30 years will end within in the range of\"\n",
    "      f\" ${ci_lower} and ${ci_upper}\")"
   ]
  },
  {
   "cell_type": "raw",
   "metadata": {},
   "source": [
    "Increasing the initial investment from $20,000, to $30,000 will likely increase the lower 95% confidence interval by $32,524 and the upper 95% confidence interval by $357,618."
   ]
  },
  {
   "cell_type": "markdown",
   "metadata": {},
   "source": [
    "## Optional Challenge - Early Retirement"
   ]
  },
  {
   "cell_type": "markdown",
   "metadata": {},
   "source": [
    "### Five Years Retirement Option"
   ]
  },
  {
   "cell_type": "code",
   "execution_count": 120,
   "metadata": {},
   "outputs": [
    {
     "data": {
      "text/html": [
       "<div>\n",
       "<style scoped>\n",
       "    .dataframe tbody tr th:only-of-type {\n",
       "        vertical-align: middle;\n",
       "    }\n",
       "\n",
       "    .dataframe tbody tr th {\n",
       "        vertical-align: top;\n",
       "    }\n",
       "\n",
       "    .dataframe thead tr th {\n",
       "        text-align: left;\n",
       "    }\n",
       "</style>\n",
       "<table border=\"1\" class=\"dataframe\">\n",
       "  <thead>\n",
       "    <tr>\n",
       "      <th></th>\n",
       "      <th colspan=\"6\" halign=\"left\">AGG</th>\n",
       "      <th colspan=\"6\" halign=\"left\">SPY</th>\n",
       "    </tr>\n",
       "    <tr>\n",
       "      <th></th>\n",
       "      <th>open</th>\n",
       "      <th>high</th>\n",
       "      <th>low</th>\n",
       "      <th>close</th>\n",
       "      <th>volume</th>\n",
       "      <th>daily_return</th>\n",
       "      <th>open</th>\n",
       "      <th>high</th>\n",
       "      <th>low</th>\n",
       "      <th>close</th>\n",
       "      <th>volume</th>\n",
       "      <th>daily_return</th>\n",
       "    </tr>\n",
       "  </thead>\n",
       "  <tbody>\n",
       "    <tr>\n",
       "      <th>2015-10-12 00:00:00-04:00</th>\n",
       "      <td>109.48</td>\n",
       "      <td>109.6500</td>\n",
       "      <td>109.3300</td>\n",
       "      <td>109.63</td>\n",
       "      <td>816909</td>\n",
       "      <td>NaN</td>\n",
       "      <td>201.42</td>\n",
       "      <td>201.76</td>\n",
       "      <td>200.91</td>\n",
       "      <td>201.55</td>\n",
       "      <td>42032769</td>\n",
       "      <td>NaN</td>\n",
       "    </tr>\n",
       "    <tr>\n",
       "      <th>2015-10-13 00:00:00-04:00</th>\n",
       "      <td>109.62</td>\n",
       "      <td>109.7500</td>\n",
       "      <td>109.4900</td>\n",
       "      <td>109.63</td>\n",
       "      <td>1360561</td>\n",
       "      <td>0.000000</td>\n",
       "      <td>200.65</td>\n",
       "      <td>202.16</td>\n",
       "      <td>200.05</td>\n",
       "      <td>200.22</td>\n",
       "      <td>72076783</td>\n",
       "      <td>-0.006599</td>\n",
       "    </tr>\n",
       "    <tr>\n",
       "      <th>2015-10-14 00:00:00-04:00</th>\n",
       "      <td>109.83</td>\n",
       "      <td>110.0500</td>\n",
       "      <td>109.7251</td>\n",
       "      <td>110.03</td>\n",
       "      <td>3785661</td>\n",
       "      <td>0.003649</td>\n",
       "      <td>200.18</td>\n",
       "      <td>200.87</td>\n",
       "      <td>198.94</td>\n",
       "      <td>199.27</td>\n",
       "      <td>82856686</td>\n",
       "      <td>-0.004745</td>\n",
       "    </tr>\n",
       "    <tr>\n",
       "      <th>2015-10-15 00:00:00-04:00</th>\n",
       "      <td>109.93</td>\n",
       "      <td>110.0499</td>\n",
       "      <td>109.7900</td>\n",
       "      <td>109.89</td>\n",
       "      <td>1792325</td>\n",
       "      <td>-0.001272</td>\n",
       "      <td>200.08</td>\n",
       "      <td>202.34</td>\n",
       "      <td>199.64</td>\n",
       "      <td>202.33</td>\n",
       "      <td>96008389</td>\n",
       "      <td>0.015356</td>\n",
       "    </tr>\n",
       "    <tr>\n",
       "      <th>2015-10-16 00:00:00-04:00</th>\n",
       "      <td>109.90</td>\n",
       "      <td>109.9400</td>\n",
       "      <td>109.7800</td>\n",
       "      <td>109.78</td>\n",
       "      <td>1497588</td>\n",
       "      <td>-0.001001</td>\n",
       "      <td>202.83</td>\n",
       "      <td>203.29</td>\n",
       "      <td>201.92</td>\n",
       "      <td>203.14</td>\n",
       "      <td>79323870</td>\n",
       "      <td>0.004003</td>\n",
       "    </tr>\n",
       "  </tbody>\n",
       "</table>\n",
       "</div>"
      ],
      "text/plain": [
       "                              AGG                                       \\\n",
       "                             open      high       low   close   volume   \n",
       "2015-10-12 00:00:00-04:00  109.48  109.6500  109.3300  109.63   816909   \n",
       "2015-10-13 00:00:00-04:00  109.62  109.7500  109.4900  109.63  1360561   \n",
       "2015-10-14 00:00:00-04:00  109.83  110.0500  109.7251  110.03  3785661   \n",
       "2015-10-15 00:00:00-04:00  109.93  110.0499  109.7900  109.89  1792325   \n",
       "2015-10-16 00:00:00-04:00  109.90  109.9400  109.7800  109.78  1497588   \n",
       "\n",
       "                                           SPY                          \\\n",
       "                          daily_return    open    high     low   close   \n",
       "2015-10-12 00:00:00-04:00          NaN  201.42  201.76  200.91  201.55   \n",
       "2015-10-13 00:00:00-04:00     0.000000  200.65  202.16  200.05  200.22   \n",
       "2015-10-14 00:00:00-04:00     0.003649  200.18  200.87  198.94  199.27   \n",
       "2015-10-15 00:00:00-04:00    -0.001272  200.08  202.34  199.64  202.33   \n",
       "2015-10-16 00:00:00-04:00    -0.001001  202.83  203.29  201.92  203.14   \n",
       "\n",
       "                                                  \n",
       "                             volume daily_return  \n",
       "2015-10-12 00:00:00-04:00  42032769          NaN  \n",
       "2015-10-13 00:00:00-04:00  72076783    -0.006599  \n",
       "2015-10-14 00:00:00-04:00  82856686    -0.004745  \n",
       "2015-10-15 00:00:00-04:00  96008389     0.015356  \n",
       "2015-10-16 00:00:00-04:00  79323870     0.004003  "
      ]
     },
     "execution_count": 120,
     "metadata": {},
     "output_type": "execute_result"
    }
   ],
   "source": [
    "# Configuring a Monte Carlo simulation to forecast 5 years cumulative returns\n",
    "#Let's try a more aggressive portfolio with only 10% in bonds and 90% in stocks this time!\n",
    "\n",
    "MC_retire_early = MCSimulation(\n",
    "    portfolio_data=df_stock_data,\n",
    "    weights = [0.1,0.9],\n",
    "    num_simulation = 500,\n",
    "    num_trading_days = 252*5)\n",
    "\n",
    "MC_retire_early.portfolio_data.head()"
   ]
  },
  {
   "cell_type": "code",
   "execution_count": 122,
   "metadata": {},
   "outputs": [
    {
     "name": "stdout",
     "output_type": "stream",
     "text": [
      "Running Monte Carlo simulation number 0.\n",
      "Running Monte Carlo simulation number 10.\n",
      "Running Monte Carlo simulation number 20.\n",
      "Running Monte Carlo simulation number 30.\n",
      "Running Monte Carlo simulation number 40.\n",
      "Running Monte Carlo simulation number 50.\n",
      "Running Monte Carlo simulation number 60.\n",
      "Running Monte Carlo simulation number 70.\n",
      "Running Monte Carlo simulation number 80.\n",
      "Running Monte Carlo simulation number 90.\n",
      "Running Monte Carlo simulation number 100.\n",
      "Running Monte Carlo simulation number 110.\n",
      "Running Monte Carlo simulation number 120.\n",
      "Running Monte Carlo simulation number 130.\n",
      "Running Monte Carlo simulation number 140.\n",
      "Running Monte Carlo simulation number 150.\n",
      "Running Monte Carlo simulation number 160.\n",
      "Running Monte Carlo simulation number 170.\n",
      "Running Monte Carlo simulation number 180.\n",
      "Running Monte Carlo simulation number 190.\n",
      "Running Monte Carlo simulation number 200.\n",
      "Running Monte Carlo simulation number 210.\n",
      "Running Monte Carlo simulation number 220.\n",
      "Running Monte Carlo simulation number 230.\n",
      "Running Monte Carlo simulation number 240.\n",
      "Running Monte Carlo simulation number 250.\n",
      "Running Monte Carlo simulation number 260.\n",
      "Running Monte Carlo simulation number 270.\n",
      "Running Monte Carlo simulation number 280.\n",
      "Running Monte Carlo simulation number 290.\n",
      "Running Monte Carlo simulation number 300.\n",
      "Running Monte Carlo simulation number 310.\n",
      "Running Monte Carlo simulation number 320.\n",
      "Running Monte Carlo simulation number 330.\n",
      "Running Monte Carlo simulation number 340.\n",
      "Running Monte Carlo simulation number 350.\n",
      "Running Monte Carlo simulation number 360.\n",
      "Running Monte Carlo simulation number 370.\n",
      "Running Monte Carlo simulation number 380.\n",
      "Running Monte Carlo simulation number 390.\n",
      "Running Monte Carlo simulation number 400.\n",
      "Running Monte Carlo simulation number 410.\n",
      "Running Monte Carlo simulation number 420.\n",
      "Running Monte Carlo simulation number 430.\n",
      "Running Monte Carlo simulation number 440.\n",
      "Running Monte Carlo simulation number 450.\n",
      "Running Monte Carlo simulation number 460.\n",
      "Running Monte Carlo simulation number 470.\n",
      "Running Monte Carlo simulation number 480.\n",
      "Running Monte Carlo simulation number 490.\n"
     ]
    },
    {
     "data": {
      "text/html": [
       "<div>\n",
       "<style scoped>\n",
       "    .dataframe tbody tr th:only-of-type {\n",
       "        vertical-align: middle;\n",
       "    }\n",
       "\n",
       "    .dataframe tbody tr th {\n",
       "        vertical-align: top;\n",
       "    }\n",
       "\n",
       "    .dataframe thead th {\n",
       "        text-align: right;\n",
       "    }\n",
       "</style>\n",
       "<table border=\"1\" class=\"dataframe\">\n",
       "  <thead>\n",
       "    <tr style=\"text-align: right;\">\n",
       "      <th></th>\n",
       "      <th>0</th>\n",
       "      <th>1</th>\n",
       "      <th>2</th>\n",
       "      <th>3</th>\n",
       "      <th>4</th>\n",
       "      <th>5</th>\n",
       "      <th>6</th>\n",
       "      <th>7</th>\n",
       "      <th>8</th>\n",
       "      <th>9</th>\n",
       "      <th>...</th>\n",
       "      <th>490</th>\n",
       "      <th>491</th>\n",
       "      <th>492</th>\n",
       "      <th>493</th>\n",
       "      <th>494</th>\n",
       "      <th>495</th>\n",
       "      <th>496</th>\n",
       "      <th>497</th>\n",
       "      <th>498</th>\n",
       "      <th>499</th>\n",
       "    </tr>\n",
       "  </thead>\n",
       "  <tbody>\n",
       "    <tr>\n",
       "      <th>0</th>\n",
       "      <td>1.000000</td>\n",
       "      <td>1.000000</td>\n",
       "      <td>1.000000</td>\n",
       "      <td>1.000000</td>\n",
       "      <td>1.000000</td>\n",
       "      <td>1.000000</td>\n",
       "      <td>1.000000</td>\n",
       "      <td>1.000000</td>\n",
       "      <td>1.000000</td>\n",
       "      <td>1.000000</td>\n",
       "      <td>...</td>\n",
       "      <td>1.000000</td>\n",
       "      <td>1.000000</td>\n",
       "      <td>1.000000</td>\n",
       "      <td>1.000000</td>\n",
       "      <td>1.000000</td>\n",
       "      <td>1.000000</td>\n",
       "      <td>1.000000</td>\n",
       "      <td>1.000000</td>\n",
       "      <td>1.000000</td>\n",
       "      <td>1.000000</td>\n",
       "    </tr>\n",
       "    <tr>\n",
       "      <th>1</th>\n",
       "      <td>1.001544</td>\n",
       "      <td>0.993661</td>\n",
       "      <td>1.011537</td>\n",
       "      <td>1.006148</td>\n",
       "      <td>0.976021</td>\n",
       "      <td>0.989301</td>\n",
       "      <td>1.018295</td>\n",
       "      <td>1.016793</td>\n",
       "      <td>1.012035</td>\n",
       "      <td>0.993253</td>\n",
       "      <td>...</td>\n",
       "      <td>1.010183</td>\n",
       "      <td>1.010844</td>\n",
       "      <td>0.994469</td>\n",
       "      <td>0.969577</td>\n",
       "      <td>1.012146</td>\n",
       "      <td>1.008754</td>\n",
       "      <td>0.989870</td>\n",
       "      <td>0.991446</td>\n",
       "      <td>0.985632</td>\n",
       "      <td>1.012034</td>\n",
       "    </tr>\n",
       "    <tr>\n",
       "      <th>2</th>\n",
       "      <td>1.006534</td>\n",
       "      <td>0.993808</td>\n",
       "      <td>1.037950</td>\n",
       "      <td>1.003939</td>\n",
       "      <td>0.986215</td>\n",
       "      <td>0.986890</td>\n",
       "      <td>1.032096</td>\n",
       "      <td>1.028376</td>\n",
       "      <td>1.020654</td>\n",
       "      <td>0.988001</td>\n",
       "      <td>...</td>\n",
       "      <td>1.021576</td>\n",
       "      <td>1.018828</td>\n",
       "      <td>1.021199</td>\n",
       "      <td>0.981800</td>\n",
       "      <td>1.017392</td>\n",
       "      <td>1.018778</td>\n",
       "      <td>0.975765</td>\n",
       "      <td>1.009574</td>\n",
       "      <td>0.996137</td>\n",
       "      <td>1.013506</td>\n",
       "    </tr>\n",
       "    <tr>\n",
       "      <th>3</th>\n",
       "      <td>1.005647</td>\n",
       "      <td>0.995870</td>\n",
       "      <td>1.031688</td>\n",
       "      <td>1.009255</td>\n",
       "      <td>0.983842</td>\n",
       "      <td>0.993793</td>\n",
       "      <td>1.027899</td>\n",
       "      <td>1.023307</td>\n",
       "      <td>1.029354</td>\n",
       "      <td>1.004506</td>\n",
       "      <td>...</td>\n",
       "      <td>1.034472</td>\n",
       "      <td>1.023693</td>\n",
       "      <td>1.026111</td>\n",
       "      <td>0.982112</td>\n",
       "      <td>1.017982</td>\n",
       "      <td>1.007419</td>\n",
       "      <td>0.975532</td>\n",
       "      <td>1.002446</td>\n",
       "      <td>0.996567</td>\n",
       "      <td>1.008806</td>\n",
       "    </tr>\n",
       "    <tr>\n",
       "      <th>4</th>\n",
       "      <td>1.013928</td>\n",
       "      <td>0.991631</td>\n",
       "      <td>1.045023</td>\n",
       "      <td>1.016603</td>\n",
       "      <td>0.981435</td>\n",
       "      <td>0.995610</td>\n",
       "      <td>1.014336</td>\n",
       "      <td>1.009988</td>\n",
       "      <td>1.034366</td>\n",
       "      <td>1.015491</td>\n",
       "      <td>...</td>\n",
       "      <td>1.026744</td>\n",
       "      <td>1.021990</td>\n",
       "      <td>1.023717</td>\n",
       "      <td>0.973213</td>\n",
       "      <td>1.025243</td>\n",
       "      <td>1.000574</td>\n",
       "      <td>0.962028</td>\n",
       "      <td>0.991743</td>\n",
       "      <td>1.004374</td>\n",
       "      <td>0.999362</td>\n",
       "    </tr>\n",
       "    <tr>\n",
       "      <th>...</th>\n",
       "      <td>...</td>\n",
       "      <td>...</td>\n",
       "      <td>...</td>\n",
       "      <td>...</td>\n",
       "      <td>...</td>\n",
       "      <td>...</td>\n",
       "      <td>...</td>\n",
       "      <td>...</td>\n",
       "      <td>...</td>\n",
       "      <td>...</td>\n",
       "      <td>...</td>\n",
       "      <td>...</td>\n",
       "      <td>...</td>\n",
       "      <td>...</td>\n",
       "      <td>...</td>\n",
       "      <td>...</td>\n",
       "      <td>...</td>\n",
       "      <td>...</td>\n",
       "      <td>...</td>\n",
       "      <td>...</td>\n",
       "      <td>...</td>\n",
       "    </tr>\n",
       "    <tr>\n",
       "      <th>1256</th>\n",
       "      <td>1.669717</td>\n",
       "      <td>0.819072</td>\n",
       "      <td>3.085487</td>\n",
       "      <td>2.367579</td>\n",
       "      <td>2.033616</td>\n",
       "      <td>3.775996</td>\n",
       "      <td>1.836508</td>\n",
       "      <td>1.227600</td>\n",
       "      <td>2.520130</td>\n",
       "      <td>2.224080</td>\n",
       "      <td>...</td>\n",
       "      <td>3.113198</td>\n",
       "      <td>1.908796</td>\n",
       "      <td>1.767451</td>\n",
       "      <td>1.813553</td>\n",
       "      <td>1.982773</td>\n",
       "      <td>2.968861</td>\n",
       "      <td>2.330538</td>\n",
       "      <td>1.102258</td>\n",
       "      <td>1.263444</td>\n",
       "      <td>2.589111</td>\n",
       "    </tr>\n",
       "    <tr>\n",
       "      <th>1257</th>\n",
       "      <td>1.690425</td>\n",
       "      <td>0.824636</td>\n",
       "      <td>3.031187</td>\n",
       "      <td>2.308008</td>\n",
       "      <td>2.050920</td>\n",
       "      <td>3.774772</td>\n",
       "      <td>1.853749</td>\n",
       "      <td>1.231677</td>\n",
       "      <td>2.550898</td>\n",
       "      <td>2.233515</td>\n",
       "      <td>...</td>\n",
       "      <td>3.063163</td>\n",
       "      <td>1.918477</td>\n",
       "      <td>1.784780</td>\n",
       "      <td>1.829583</td>\n",
       "      <td>1.984238</td>\n",
       "      <td>2.966531</td>\n",
       "      <td>2.372364</td>\n",
       "      <td>1.128947</td>\n",
       "      <td>1.245312</td>\n",
       "      <td>2.645048</td>\n",
       "    </tr>\n",
       "    <tr>\n",
       "      <th>1258</th>\n",
       "      <td>1.666182</td>\n",
       "      <td>0.815122</td>\n",
       "      <td>3.054992</td>\n",
       "      <td>2.321023</td>\n",
       "      <td>2.082366</td>\n",
       "      <td>3.823325</td>\n",
       "      <td>1.862242</td>\n",
       "      <td>1.207677</td>\n",
       "      <td>2.597781</td>\n",
       "      <td>2.184188</td>\n",
       "      <td>...</td>\n",
       "      <td>3.076017</td>\n",
       "      <td>1.898345</td>\n",
       "      <td>1.769926</td>\n",
       "      <td>1.824528</td>\n",
       "      <td>2.016126</td>\n",
       "      <td>2.903838</td>\n",
       "      <td>2.364471</td>\n",
       "      <td>1.129738</td>\n",
       "      <td>1.228062</td>\n",
       "      <td>2.660305</td>\n",
       "    </tr>\n",
       "    <tr>\n",
       "      <th>1259</th>\n",
       "      <td>1.654680</td>\n",
       "      <td>0.803575</td>\n",
       "      <td>3.061751</td>\n",
       "      <td>2.348859</td>\n",
       "      <td>2.086683</td>\n",
       "      <td>3.731859</td>\n",
       "      <td>1.806388</td>\n",
       "      <td>1.224700</td>\n",
       "      <td>2.589105</td>\n",
       "      <td>2.188642</td>\n",
       "      <td>...</td>\n",
       "      <td>3.098160</td>\n",
       "      <td>1.918217</td>\n",
       "      <td>1.769097</td>\n",
       "      <td>1.792344</td>\n",
       "      <td>2.024589</td>\n",
       "      <td>2.891757</td>\n",
       "      <td>2.369637</td>\n",
       "      <td>1.138500</td>\n",
       "      <td>1.242855</td>\n",
       "      <td>2.668795</td>\n",
       "    </tr>\n",
       "    <tr>\n",
       "      <th>1260</th>\n",
       "      <td>1.653789</td>\n",
       "      <td>0.805289</td>\n",
       "      <td>3.042632</td>\n",
       "      <td>2.353586</td>\n",
       "      <td>2.074150</td>\n",
       "      <td>3.721219</td>\n",
       "      <td>1.803508</td>\n",
       "      <td>1.223541</td>\n",
       "      <td>2.672082</td>\n",
       "      <td>2.201313</td>\n",
       "      <td>...</td>\n",
       "      <td>3.121442</td>\n",
       "      <td>1.952236</td>\n",
       "      <td>1.770454</td>\n",
       "      <td>1.789641</td>\n",
       "      <td>2.049153</td>\n",
       "      <td>2.922289</td>\n",
       "      <td>2.354777</td>\n",
       "      <td>1.135040</td>\n",
       "      <td>1.250339</td>\n",
       "      <td>2.632171</td>\n",
       "    </tr>\n",
       "  </tbody>\n",
       "</table>\n",
       "<p>1261 rows × 500 columns</p>\n",
       "</div>"
      ],
      "text/plain": [
       "           0         1         2         3         4         5         6    \\\n",
       "0     1.000000  1.000000  1.000000  1.000000  1.000000  1.000000  1.000000   \n",
       "1     1.001544  0.993661  1.011537  1.006148  0.976021  0.989301  1.018295   \n",
       "2     1.006534  0.993808  1.037950  1.003939  0.986215  0.986890  1.032096   \n",
       "3     1.005647  0.995870  1.031688  1.009255  0.983842  0.993793  1.027899   \n",
       "4     1.013928  0.991631  1.045023  1.016603  0.981435  0.995610  1.014336   \n",
       "...        ...       ...       ...       ...       ...       ...       ...   \n",
       "1256  1.669717  0.819072  3.085487  2.367579  2.033616  3.775996  1.836508   \n",
       "1257  1.690425  0.824636  3.031187  2.308008  2.050920  3.774772  1.853749   \n",
       "1258  1.666182  0.815122  3.054992  2.321023  2.082366  3.823325  1.862242   \n",
       "1259  1.654680  0.803575  3.061751  2.348859  2.086683  3.731859  1.806388   \n",
       "1260  1.653789  0.805289  3.042632  2.353586  2.074150  3.721219  1.803508   \n",
       "\n",
       "           7         8         9    ...       490       491       492  \\\n",
       "0     1.000000  1.000000  1.000000  ...  1.000000  1.000000  1.000000   \n",
       "1     1.016793  1.012035  0.993253  ...  1.010183  1.010844  0.994469   \n",
       "2     1.028376  1.020654  0.988001  ...  1.021576  1.018828  1.021199   \n",
       "3     1.023307  1.029354  1.004506  ...  1.034472  1.023693  1.026111   \n",
       "4     1.009988  1.034366  1.015491  ...  1.026744  1.021990  1.023717   \n",
       "...        ...       ...       ...  ...       ...       ...       ...   \n",
       "1256  1.227600  2.520130  2.224080  ...  3.113198  1.908796  1.767451   \n",
       "1257  1.231677  2.550898  2.233515  ...  3.063163  1.918477  1.784780   \n",
       "1258  1.207677  2.597781  2.184188  ...  3.076017  1.898345  1.769926   \n",
       "1259  1.224700  2.589105  2.188642  ...  3.098160  1.918217  1.769097   \n",
       "1260  1.223541  2.672082  2.201313  ...  3.121442  1.952236  1.770454   \n",
       "\n",
       "           493       494       495       496       497       498       499  \n",
       "0     1.000000  1.000000  1.000000  1.000000  1.000000  1.000000  1.000000  \n",
       "1     0.969577  1.012146  1.008754  0.989870  0.991446  0.985632  1.012034  \n",
       "2     0.981800  1.017392  1.018778  0.975765  1.009574  0.996137  1.013506  \n",
       "3     0.982112  1.017982  1.007419  0.975532  1.002446  0.996567  1.008806  \n",
       "4     0.973213  1.025243  1.000574  0.962028  0.991743  1.004374  0.999362  \n",
       "...        ...       ...       ...       ...       ...       ...       ...  \n",
       "1256  1.813553  1.982773  2.968861  2.330538  1.102258  1.263444  2.589111  \n",
       "1257  1.829583  1.984238  2.966531  2.372364  1.128947  1.245312  2.645048  \n",
       "1258  1.824528  2.016126  2.903838  2.364471  1.129738  1.228062  2.660305  \n",
       "1259  1.792344  2.024589  2.891757  2.369637  1.138500  1.242855  2.668795  \n",
       "1260  1.789641  2.049153  2.922289  2.354777  1.135040  1.250339  2.632171  \n",
       "\n",
       "[1261 rows x 500 columns]"
      ]
     },
     "execution_count": 122,
     "metadata": {},
     "output_type": "execute_result"
    }
   ],
   "source": [
    "# Running a Monte Carlo simulation to forecast 5 years cumulative returns\n",
    "MC_retire_early.calc_cumulative_return()"
   ]
  },
  {
   "cell_type": "code",
   "execution_count": 123,
   "metadata": {},
   "outputs": [
    {
     "data": {
      "text/plain": [
       "<matplotlib.axes._subplots.AxesSubplot at 0x1179b9190>"
      ]
     },
     "execution_count": 123,
     "metadata": {},
     "output_type": "execute_result"
    },
    {
     "data": {
      "image/png": "[encoded data removed]",
      "text/plain": [
       "<Figure size 432x288 with 1 Axes>"
      ]
     },
     "metadata": {
      "needs_background": "light"
     },
     "output_type": "display_data"
    }
   ],
   "source": [
    "MC_retire_early.plot_simulation()"
   ]
  },
  {
   "cell_type": "code",
   "execution_count": 124,
   "metadata": {},
   "outputs": [
    {
     "data": {
      "text/plain": [
       "<matplotlib.axes._subplots.AxesSubplot at 0x11b163090>"
      ]
     },
     "execution_count": 124,
     "metadata": {},
     "output_type": "execute_result"
    },
    {
     "data": {
      "image/png": "[encoded data removed]",
      "text/plain": [
       "<Figure size 432x288 with 1 Axes>"
      ]
     },
     "metadata": {
      "needs_background": "light"
     },
     "output_type": "display_data"
    }
   ],
   "source": [
    "MC_retire_early.plot_distribution()"
   ]
  },
  {
   "cell_type": "code",
   "execution_count": 126,
   "metadata": {},
   "outputs": [
    {
     "data": {
      "text/plain": [
       "count           500.000000\n",
       "mean              1.803077\n",
       "std               0.739323\n",
       "min               0.564763\n",
       "25%               1.235591\n",
       "50%               1.653706\n",
       "75%               2.183708\n",
       "max               4.868272\n",
       "95% CI Lower      0.808058\n",
       "95% CI Upper      3.729092\n",
       "Name: 1260, dtype: float64"
      ]
     },
     "execution_count": 126,
     "metadata": {},
     "output_type": "execute_result"
    }
   ],
   "source": [
    "retire_early_tbl = MC_retire_early.summarize_cumulative_return()\n",
    "retire_early_tbl"
   ]
  },
  {
   "cell_type": "code",
   "execution_count": 150,
   "metadata": {},
   "outputs": [
    {
     "name": "stdout",
     "output_type": "stream",
     "text": [
      "There is a 95% chance that an initial investment of $195000 in the portfolio over the next 5 years will end within in the range of $157571.34 and $727172.96\n"
     ]
    }
   ],
   "source": [
    "# Set initial investment\n",
    "initial_investment = 195000\n",
    "\n",
    "# Use the lower and upper `95%` confidence intervals to calculate the range of the possible outcomes of our $20,000\n",
    "ci_lower = round(retire_early_tbl[8]*initial_investment,2)\n",
    "ci_upper = round(retire_early_tbl[9]*initial_investment,2)\n",
    "\n",
    "# Print results\n",
    "print(f\"There is a 95% chance that an initial investment of ${initial_investment} in the portfolio\"\n",
    "      f\" over the next 5 years will end within in the range of\"\n",
    "      f\" ${ci_lower} and ${ci_upper}\")"
   ]
  },
  {
   "cell_type": "raw",
   "metadata": {},
   "source": [
    "I compared this 30 year, 40/60 (bond/stock) portfolio to a 5 year 10/90 (bond/stock) porfolio. In order for the second portfolio to match the upper 95% confidence leve of the 30 year porfolio, it would need a much larger initial investment of $195,000 versus $30,000."
   ]
  },
  {
   "cell_type": "code",
   "execution_count": 138,
   "metadata": {},
   "outputs": [],
   "source": [
    "# Configuring a Monte Carlo simulation to forecast 5 years cumulative returns\n",
    "#Let's try a more aggressive portfolio with only 40% in bonds and 60% in stocks this time!\n",
    "\n",
    "MC_retire_early_2 = MCSimulation(\n",
    "    portfolio_data=df_stock_data,\n",
    "    weights = [0.4,0.6],\n",
    "    num_simulation = 500,\n",
    "    num_trading_days = 252*5)"
   ]
  },
  {
   "cell_type": "code",
   "execution_count": 139,
   "metadata": {},
   "outputs": [
    {
     "name": "stdout",
     "output_type": "stream",
     "text": [
      "Running Monte Carlo simulation number 0.\n",
      "Running Monte Carlo simulation number 10.\n",
      "Running Monte Carlo simulation number 20.\n",
      "Running Monte Carlo simulation number 30.\n",
      "Running Monte Carlo simulation number 40.\n",
      "Running Monte Carlo simulation number 50.\n",
      "Running Monte Carlo simulation number 60.\n",
      "Running Monte Carlo simulation number 70.\n",
      "Running Monte Carlo simulation number 80.\n",
      "Running Monte Carlo simulation number 90.\n",
      "Running Monte Carlo simulation number 100.\n",
      "Running Monte Carlo simulation number 110.\n",
      "Running Monte Carlo simulation number 120.\n",
      "Running Monte Carlo simulation number 130.\n",
      "Running Monte Carlo simulation number 140.\n",
      "Running Monte Carlo simulation number 150.\n",
      "Running Monte Carlo simulation number 160.\n",
      "Running Monte Carlo simulation number 170.\n",
      "Running Monte Carlo simulation number 180.\n",
      "Running Monte Carlo simulation number 190.\n",
      "Running Monte Carlo simulation number 200.\n",
      "Running Monte Carlo simulation number 210.\n",
      "Running Monte Carlo simulation number 220.\n",
      "Running Monte Carlo simulation number 230.\n",
      "Running Monte Carlo simulation number 240.\n",
      "Running Monte Carlo simulation number 250.\n",
      "Running Monte Carlo simulation number 260.\n",
      "Running Monte Carlo simulation number 270.\n",
      "Running Monte Carlo simulation number 280.\n",
      "Running Monte Carlo simulation number 290.\n",
      "Running Monte Carlo simulation number 300.\n",
      "Running Monte Carlo simulation number 310.\n",
      "Running Monte Carlo simulation number 320.\n",
      "Running Monte Carlo simulation number 330.\n",
      "Running Monte Carlo simulation number 340.\n",
      "Running Monte Carlo simulation number 350.\n",
      "Running Monte Carlo simulation number 360.\n",
      "Running Monte Carlo simulation number 370.\n",
      "Running Monte Carlo simulation number 380.\n",
      "Running Monte Carlo simulation number 390.\n",
      "Running Monte Carlo simulation number 400.\n",
      "Running Monte Carlo simulation number 410.\n",
      "Running Monte Carlo simulation number 420.\n",
      "Running Monte Carlo simulation number 430.\n",
      "Running Monte Carlo simulation number 440.\n",
      "Running Monte Carlo simulation number 450.\n",
      "Running Monte Carlo simulation number 460.\n",
      "Running Monte Carlo simulation number 470.\n",
      "Running Monte Carlo simulation number 480.\n",
      "Running Monte Carlo simulation number 490.\n"
     ]
    },
    {
     "data": {
      "text/plain": [
       "<matplotlib.axes._subplots.AxesSubplot at 0x11c12e610>"
      ]
     },
     "execution_count": 139,
     "metadata": {},
     "output_type": "execute_result"
    },
    {
     "data": {
      "image/png": "[encoded data removed]",
      "text/plain": [
       "<Figure size 432x288 with 1 Axes>"
      ]
     },
     "metadata": {
      "needs_background": "light"
     },
     "output_type": "display_data"
    }
   ],
   "source": [
    "MC_retire_early_2.plot_simulation()"
   ]
  },
  {
   "cell_type": "code",
   "execution_count": 140,
   "metadata": {},
   "outputs": [
    {
     "data": {
      "text/plain": [
       "<matplotlib.axes._subplots.AxesSubplot at 0x11b2e4a90>"
      ]
     },
     "execution_count": 140,
     "metadata": {},
     "output_type": "execute_result"
    },
    {
     "data": {
      "image/png": "[encoded data removed]",
      "text/plain": [
       "<Figure size 432x288 with 1 Axes>"
      ]
     },
     "metadata": {
      "needs_background": "light"
     },
     "output_type": "display_data"
    }
   ],
   "source": [
    "MC_retire_early_2.plot_distribution()"
   ]
  },
  {
   "cell_type": "code",
   "execution_count": 144,
   "metadata": {},
   "outputs": [
    {
     "data": {
      "text/plain": [
       "count           500.000000\n",
       "mean              1.531792\n",
       "std               0.403037\n",
       "min               0.572895\n",
       "25%               1.232388\n",
       "50%               1.484174\n",
       "75%               1.786871\n",
       "max               2.985689\n",
       "95% CI Lower      0.900276\n",
       "95% CI Upper      2.429760\n",
       "Name: 1260, dtype: float64"
      ]
     },
     "execution_count": 144,
     "metadata": {},
     "output_type": "execute_result"
    }
   ],
   "source": [
    "retire_early_2_tbl = MC_retire_early_2.summarize_cumulative_return()\n",
    "retire_early_2_tbl"
   ]
  },
  {
   "cell_type": "code",
   "execution_count": 152,
   "metadata": {},
   "outputs": [
    {
     "name": "stdout",
     "output_type": "stream",
     "text": [
      "There is a 95% chance that an initial investment of $195000 in the portfolio over the next 5 years will end within in the range of $175553.79 and $473803.2\n"
     ]
    }
   ],
   "source": [
    "# Set initial investment\n",
    "initial_investment = 195000\n",
    "\n",
    "# Use the lower and upper `95%` confidence intervals to calculate the range of the possible outcomes of our $20,000\n",
    "ci_lower = round(retire_early_2_tbl[8]*initial_investment,2)\n",
    "ci_upper = round(retire_early_2_tbl[9]*initial_investment,2)\n",
    "\n",
    "# Print results\n",
    "print(f\"There is a 95% chance that an initial investment of ${initial_investment} in the portfolio\"\n",
    "      f\" over the next 5 years will end within in the range of\"\n",
    "      f\" ${ci_lower} and ${ci_upper}\")"
   ]
  },
  {
   "cell_type": "code",
   "execution_count": null,
   "metadata": {},
   "outputs": [],
   "source": []
  }
 ],
 "metadata": {
  "kernelspec": {
   "display_name": "Python 3",
   "language": "python",
   "name": "python3"
  },
  "language_info": {
   "codemirror_mode": {
    "name": "ipython",
    "version": 3
   },
   "file_extension": ".py",
   "mimetype": "text/x-python",
   "name": "python",
   "nbconvert_exporter": "python",
   "pygments_lexer": "ipython3",
   "version": "3.7.6"
  }
 },
 "nbformat": 4,
 "nbformat_minor": 4
}
